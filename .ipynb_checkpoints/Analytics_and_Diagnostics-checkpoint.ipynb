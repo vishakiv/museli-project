{
 "cells": [
  {
   "cell_type": "markdown",
   "metadata": {},
   "source": [
    "### Loading in the cleaned data and setting up my environment"
   ]
  },
  {
   "cell_type": "code",
   "execution_count": 1,
   "metadata": {},
   "outputs": [],
   "source": [
    "import pandas as pd\n",
    "import matplotlib.pyplot as plt\n",
    "import seaborn as sns"
   ]
  },
  {
   "cell_type": "code",
   "execution_count": 2,
   "metadata": {},
   "outputs": [],
   "source": [
    "plt.style.use(\"fast\")"
   ]
  },
  {
   "cell_type": "code",
   "execution_count": 3,
   "metadata": {},
   "outputs": [],
   "source": [
    "orders = pd.read_csv(\"orders_cleaned.csv\")\n",
    "campaigns= pd.read_csv(\"campaign_cleaned.csv\")\n",
    "order_process = pd.read_csv(\"order_process_cleaned.csv\")\n",
    "intern_study = pd.read_csv(\"intern_study_cleaned.csv\")"
   ]
  },
  {
   "cell_type": "code",
   "execution_count": 4,
   "metadata": {},
   "outputs": [
    {
     "data": {
      "text/html": [
       "<div>\n",
       "<style scoped>\n",
       "    .dataframe tbody tr th:only-of-type {\n",
       "        vertical-align: middle;\n",
       "    }\n",
       "\n",
       "    .dataframe tbody tr th {\n",
       "        vertical-align: top;\n",
       "    }\n",
       "\n",
       "    .dataframe thead th {\n",
       "        text-align: right;\n",
       "    }\n",
       "</style>\n",
       "<table border=\"1\" class=\"dataframe\">\n",
       "  <thead>\n",
       "    <tr style=\"text-align: right;\">\n",
       "      <th></th>\n",
       "      <th>order_id</th>\n",
       "      <th>order_date</th>\n",
       "      <th>ship_mode</th>\n",
       "      <th>product_id</th>\n",
       "    </tr>\n",
       "  </thead>\n",
       "  <tbody>\n",
       "    <tr>\n",
       "      <th>0</th>\n",
       "      <td>CA-2019-121755</td>\n",
       "      <td>2019-01-16</td>\n",
       "      <td>Second Class</td>\n",
       "      <td>TEC-AC-10003027</td>\n",
       "    </tr>\n",
       "    <tr>\n",
       "      <th>1</th>\n",
       "      <td>CA-2019-118255</td>\n",
       "      <td>2019-03-11</td>\n",
       "      <td>First Class</td>\n",
       "      <td>TEC-AC-10000171</td>\n",
       "    </tr>\n",
       "    <tr>\n",
       "      <th>2</th>\n",
       "      <td>CA-2019-169194</td>\n",
       "      <td>2019-06-20</td>\n",
       "      <td>Standard Class</td>\n",
       "      <td>TEC-AC-10002167</td>\n",
       "    </tr>\n",
       "    <tr>\n",
       "      <th>3</th>\n",
       "      <td>CA-2019-111682</td>\n",
       "      <td>2019-06-17</td>\n",
       "      <td>First Class</td>\n",
       "      <td>TEC-AC-10002167</td>\n",
       "    </tr>\n",
       "    <tr>\n",
       "      <th>4</th>\n",
       "      <td>CA-2018-135545</td>\n",
       "      <td>2018-11-24</td>\n",
       "      <td>Standard Class</td>\n",
       "      <td>TEC-AC-10004633</td>\n",
       "    </tr>\n",
       "  </tbody>\n",
       "</table>\n",
       "</div>"
      ],
      "text/plain": [
       "         order_id  order_date       ship_mode       product_id\n",
       "0  CA-2019-121755  2019-01-16    Second Class  TEC-AC-10003027\n",
       "1  CA-2019-118255  2019-03-11     First Class  TEC-AC-10000171\n",
       "2  CA-2019-169194  2019-06-20  Standard Class  TEC-AC-10002167\n",
       "3  CA-2019-111682  2019-06-17     First Class  TEC-AC-10002167\n",
       "4  CA-2018-135545  2018-11-24  Standard Class  TEC-AC-10004633"
      ]
     },
     "execution_count": 4,
     "metadata": {},
     "output_type": "execute_result"
    }
   ],
   "source": [
    "orders.head()"
   ]
  },
  {
   "cell_type": "code",
   "execution_count": 5,
   "metadata": {
    "scrolled": true
   },
   "outputs": [
    {
     "data": {
      "text/html": [
       "<div>\n",
       "<style scoped>\n",
       "    .dataframe tbody tr th:only-of-type {\n",
       "        vertical-align: middle;\n",
       "    }\n",
       "\n",
       "    .dataframe tbody tr th {\n",
       "        vertical-align: top;\n",
       "    }\n",
       "\n",
       "    .dataframe thead th {\n",
       "        text-align: right;\n",
       "    }\n",
       "</style>\n",
       "<table border=\"1\" class=\"dataframe\">\n",
       "  <thead>\n",
       "    <tr style=\"text-align: right;\">\n",
       "      <th></th>\n",
       "      <th>order_id</th>\n",
       "      <th>arrival_scan_date</th>\n",
       "    </tr>\n",
       "  </thead>\n",
       "  <tbody>\n",
       "    <tr>\n",
       "      <th>0</th>\n",
       "      <td>CA-2019-109666</td>\n",
       "      <td>2019-05-03</td>\n",
       "    </tr>\n",
       "    <tr>\n",
       "      <th>1</th>\n",
       "      <td>CA-2019-138933</td>\n",
       "      <td>2019-05-03</td>\n",
       "    </tr>\n",
       "    <tr>\n",
       "      <th>2</th>\n",
       "      <td>CA-2019-130001</td>\n",
       "      <td>2019-05-03</td>\n",
       "    </tr>\n",
       "    <tr>\n",
       "      <th>3</th>\n",
       "      <td>CA-2019-113061</td>\n",
       "      <td>2019-05-06</td>\n",
       "    </tr>\n",
       "    <tr>\n",
       "      <th>4</th>\n",
       "      <td>CA-2019-162138</td>\n",
       "      <td>2019-05-06</td>\n",
       "    </tr>\n",
       "  </tbody>\n",
       "</table>\n",
       "</div>"
      ],
      "text/plain": [
       "         order_id arrival_scan_date\n",
       "0  CA-2019-109666        2019-05-03\n",
       "1  CA-2019-138933        2019-05-03\n",
       "2  CA-2019-130001        2019-05-03\n",
       "3  CA-2019-113061        2019-05-06\n",
       "4  CA-2019-162138        2019-05-06"
      ]
     },
     "execution_count": 5,
     "metadata": {},
     "output_type": "execute_result"
    }
   ],
   "source": [
    "campaigns.head()"
   ]
  },
  {
   "cell_type": "code",
   "execution_count": 6,
   "metadata": {},
   "outputs": [
    {
     "data": {
      "text/html": [
       "<div>\n",
       "<style scoped>\n",
       "    .dataframe tbody tr th:only-of-type {\n",
       "        vertical-align: middle;\n",
       "    }\n",
       "\n",
       "    .dataframe tbody tr th {\n",
       "        vertical-align: top;\n",
       "    }\n",
       "\n",
       "    .dataframe thead th {\n",
       "        text-align: right;\n",
       "    }\n",
       "</style>\n",
       "<table border=\"1\" class=\"dataframe\">\n",
       "  <thead>\n",
       "    <tr style=\"text-align: right;\">\n",
       "      <th></th>\n",
       "      <th>order_id</th>\n",
       "      <th>ready_to_ship_date</th>\n",
       "      <th>pickup_date</th>\n",
       "    </tr>\n",
       "  </thead>\n",
       "  <tbody>\n",
       "    <tr>\n",
       "      <th>0</th>\n",
       "      <td>CA-2019-116540</td>\n",
       "      <td>2019-09-02</td>\n",
       "      <td>2019-09-03</td>\n",
       "    </tr>\n",
       "    <tr>\n",
       "      <th>1</th>\n",
       "      <td>CA-2019-116540</td>\n",
       "      <td>2019-09-02</td>\n",
       "      <td>2019-09-03</td>\n",
       "    </tr>\n",
       "    <tr>\n",
       "      <th>2</th>\n",
       "      <td>CA-2019-129847</td>\n",
       "      <td>2019-09-04</td>\n",
       "      <td>2019-09-04</td>\n",
       "    </tr>\n",
       "    <tr>\n",
       "      <th>3</th>\n",
       "      <td>CA-2019-129630</td>\n",
       "      <td>2019-09-04</td>\n",
       "      <td>2019-09-04</td>\n",
       "    </tr>\n",
       "    <tr>\n",
       "      <th>4</th>\n",
       "      <td>CA-2019-106278</td>\n",
       "      <td>2019-09-05</td>\n",
       "      <td>2019-09-06</td>\n",
       "    </tr>\n",
       "  </tbody>\n",
       "</table>\n",
       "</div>"
      ],
      "text/plain": [
       "         order_id ready_to_ship_date pickup_date\n",
       "0  CA-2019-116540         2019-09-02  2019-09-03\n",
       "1  CA-2019-116540         2019-09-02  2019-09-03\n",
       "2  CA-2019-129847         2019-09-04  2019-09-04\n",
       "3  CA-2019-129630         2019-09-04  2019-09-04\n",
       "4  CA-2019-106278         2019-09-05  2019-09-06"
      ]
     },
     "execution_count": 6,
     "metadata": {},
     "output_type": "execute_result"
    }
   ],
   "source": [
    "intern_study.head()"
   ]
  },
  {
   "cell_type": "code",
   "execution_count": 7,
   "metadata": {
    "scrolled": true
   },
   "outputs": [
    {
     "data": {
      "text/html": [
       "<div>\n",
       "<style scoped>\n",
       "    .dataframe tbody tr th:only-of-type {\n",
       "        vertical-align: middle;\n",
       "    }\n",
       "\n",
       "    .dataframe tbody tr th {\n",
       "        vertical-align: top;\n",
       "    }\n",
       "\n",
       "    .dataframe thead th {\n",
       "        text-align: right;\n",
       "    }\n",
       "</style>\n",
       "<table border=\"1\" class=\"dataframe\">\n",
       "  <thead>\n",
       "    <tr style=\"text-align: right;\">\n",
       "      <th></th>\n",
       "      <th>order_id</th>\n",
       "      <th>order_date</th>\n",
       "      <th>on_truck_scan_date</th>\n",
       "      <th>ship_mode</th>\n",
       "    </tr>\n",
       "  </thead>\n",
       "  <tbody>\n",
       "    <tr>\n",
       "      <th>0</th>\n",
       "      <td>CA-2019-125206</td>\n",
       "      <td>2019-01-03</td>\n",
       "      <td>2019-01-07</td>\n",
       "      <td>Express</td>\n",
       "    </tr>\n",
       "    <tr>\n",
       "      <th>1</th>\n",
       "      <td>CA-2019-160304</td>\n",
       "      <td>2019-01-02</td>\n",
       "      <td>2019-01-09</td>\n",
       "      <td>Standard Processing</td>\n",
       "    </tr>\n",
       "    <tr>\n",
       "      <th>2</th>\n",
       "      <td>CA-2019-160304</td>\n",
       "      <td>2019-01-02</td>\n",
       "      <td>2019-01-09</td>\n",
       "      <td>Standard Processing</td>\n",
       "    </tr>\n",
       "    <tr>\n",
       "      <th>3</th>\n",
       "      <td>US-2019-116365</td>\n",
       "      <td>2019-01-03</td>\n",
       "      <td>2019-01-09</td>\n",
       "      <td>Standard Processing</td>\n",
       "    </tr>\n",
       "    <tr>\n",
       "      <th>4</th>\n",
       "      <td>US-2019-116365</td>\n",
       "      <td>2019-01-03</td>\n",
       "      <td>2019-01-09</td>\n",
       "      <td>Standard Processing</td>\n",
       "    </tr>\n",
       "    <tr>\n",
       "      <th>...</th>\n",
       "      <td>...</td>\n",
       "      <td>...</td>\n",
       "      <td>...</td>\n",
       "      <td>...</td>\n",
       "    </tr>\n",
       "    <tr>\n",
       "      <th>5894</th>\n",
       "      <td>CA-2020-143259</td>\n",
       "      <td>2020-12-30</td>\n",
       "      <td>2021-01-06</td>\n",
       "      <td>Standard Processing</td>\n",
       "    </tr>\n",
       "    <tr>\n",
       "      <th>5895</th>\n",
       "      <td>CA-2020-143259</td>\n",
       "      <td>2020-12-30</td>\n",
       "      <td>2021-01-06</td>\n",
       "      <td>Standard Processing</td>\n",
       "    </tr>\n",
       "    <tr>\n",
       "      <th>5896</th>\n",
       "      <td>CA-2020-115427</td>\n",
       "      <td>2020-12-30</td>\n",
       "      <td>2021-01-06</td>\n",
       "      <td>Standard Processing</td>\n",
       "    </tr>\n",
       "    <tr>\n",
       "      <th>5897</th>\n",
       "      <td>CA-2020-115427</td>\n",
       "      <td>2020-12-30</td>\n",
       "      <td>2021-01-06</td>\n",
       "      <td>Standard Processing</td>\n",
       "    </tr>\n",
       "    <tr>\n",
       "      <th>5898</th>\n",
       "      <td>CA-2020-156720</td>\n",
       "      <td>2020-12-30</td>\n",
       "      <td>2021-01-06</td>\n",
       "      <td>Standard Processing</td>\n",
       "    </tr>\n",
       "  </tbody>\n",
       "</table>\n",
       "<p>5899 rows × 4 columns</p>\n",
       "</div>"
      ],
      "text/plain": [
       "            order_id  order_date on_truck_scan_date            ship_mode\n",
       "0     CA-2019-125206  2019-01-03         2019-01-07              Express\n",
       "1     CA-2019-160304  2019-01-02         2019-01-09  Standard Processing\n",
       "2     CA-2019-160304  2019-01-02         2019-01-09  Standard Processing\n",
       "3     US-2019-116365  2019-01-03         2019-01-09  Standard Processing\n",
       "4     US-2019-116365  2019-01-03         2019-01-09  Standard Processing\n",
       "...              ...         ...                ...                  ...\n",
       "5894  CA-2020-143259  2020-12-30         2021-01-06  Standard Processing\n",
       "5895  CA-2020-143259  2020-12-30         2021-01-06  Standard Processing\n",
       "5896  CA-2020-115427  2020-12-30         2021-01-06  Standard Processing\n",
       "5897  CA-2020-115427  2020-12-30         2021-01-06  Standard Processing\n",
       "5898  CA-2020-156720  2020-12-30         2021-01-06  Standard Processing\n",
       "\n",
       "[5899 rows x 4 columns]"
      ]
     },
     "execution_count": 7,
     "metadata": {},
     "output_type": "execute_result"
    }
   ],
   "source": [
    "order_process"
   ]
  },
  {
   "cell_type": "markdown",
   "metadata": {},
   "source": [
    "![Flowchart and KPIs](Flowchart%20Museli.png)\n"
   ]
  },
  {
   "cell_type": "markdown",
   "metadata": {},
   "source": [
    "## KPI 1: Order Prep Time\n",
    "\n",
    "**What is the `average time taken` for an order to be prepared for shipping?** \n",
    "\n",
    "Calculated difference in number of days between the order date  and the ready to ship date\n",
    "`ready_to_ship - order_date`.  \n",
    "Use the `mean` to find `average time taken` .\n",
    "\n",
    "**Steps taken:**\n",
    "1. Merge orders and intern_study tables\n",
    "2. Inspect and drop any duplicate rows\n",
    "3. Convert dates to datetime and extract day of week\n",
    "4. Calculate the difference in number of days between the order date and the arrival_scan_date\n",
    "`arrival_scan_date - order_date`\n",
    "5. Plot the distribution of order prep time\n",
    "6. Use the `mean` to find `average time taken`** .\n"
   ]
  },
  {
   "cell_type": "code",
   "execution_count": 8,
   "metadata": {},
   "outputs": [
    {
     "name": "stdout",
     "output_type": "stream",
     "text": [
      "There are 753 rows in the merged dataset.\n",
      "After dropping duplicates, there are 204 rows in the final dataset.\n"
     ]
    }
   ],
   "source": [
    "#1. merge intern_study and orders on order_id\n",
    "orders_intern = orders.merge(intern_study,on=\"order_id\", how=\"inner\") \n",
    "\n",
    "#check for the shape, 753 rows\n",
    "print(f\"There are {orders_intern.shape[0]} rows in the merged dataset.\")\n",
    "\n",
    "#2a. check for duplicate rows\n",
    "duplicates = orders_intern[orders_intern.duplicated(keep=False)]\n",
    "\n",
    "#2b. dropping duplicate rows\n",
    "orders_intern_dedup = orders_intern.drop_duplicates().copy()\n",
    "\n",
    "#2c.checking for duplicates in order_id\n",
    "orders_intern_dedup.duplicated(subset=[\"order_id\"]).value_counts()\n",
    "\n",
    "orders_intern_dedup[orders_intern_dedup.duplicated(subset=\"order_id\",keep=False)].sort_values(\"order_id\")\n",
    "\n",
    "#2d. Dropping duplicate order_ids\n",
    "orders_intern_dedup = orders_intern_dedup.drop_duplicates(subset=\"order_id\")\n",
    "print(f\"After dropping duplicates, there are {len(orders_intern_dedup)} rows in the final dataset.\")\n",
    "\n",
    "#3a. casting order_date and ready_to_ship_date to datetime format\n",
    "orders_intern_dedup[\"order_date\"] = pd.to_datetime(orders_intern_dedup[\"order_date\"])\n",
    "orders_intern_dedup[\"ready_to_ship_date\"] = pd.to_datetime(orders_intern_dedup[\"ready_to_ship_date\"])\n",
    "orders_intern_dedup[\"pickup_date\"] = pd.to_datetime(orders_intern_dedup[\"pickup_date\"])\n",
    "\n",
    "#3b. extracting day of week\n",
    "orders_intern_dedup[\"order_date_dow\"] = orders_intern_dedup[\"order_date\"].dt.day_name()\n",
    "\n",
    "#4a. Calculating difference \n",
    "orders_intern_dedup[\"order_to_ready\"] = orders_intern_dedup[\"ready_to_ship_date\"] - orders_intern_dedup[\"order_date\"]\n",
    "\n",
    "#4b. converting to days for plotting\n",
    "orders_intern_dedup[\"order_to_ready_int\"] = orders_intern_dedup[\"order_to_ready\"].dt.days"
   ]
  },
  {
   "cell_type": "code",
   "execution_count": 64,
   "metadata": {
    "scrolled": true
   },
   "outputs": [
    {
     "data": {
      "image/png": "[encoded data removed]",
      "text/plain": [
       "<Figure size 640x480 with 1 Axes>"
      ]
     },
     "metadata": {},
     "output_type": "display_data"
    }
   ],
   "source": [
    "#5. Plotting the distribution of KPI1: time taken from order placed to order ready in warehouse\n",
    "plt.boxplot(x=orders_intern_dedup[\"order_to_ready_int\"])\n",
    "plt.title(\"Time taken from order being placed to order ready to ship\")\n",
    "plt.ylabel(\"Days\")\n",
    "plt.show();"
   ]
  },
  {
   "cell_type": "code",
   "execution_count": 65,
   "metadata": {
    "scrolled": true
   },
   "outputs": [
    {
     "data": {
      "text/html": [
       "<div>\n",
       "<style scoped>\n",
       "    .dataframe tbody tr th:only-of-type {\n",
       "        vertical-align: middle;\n",
       "    }\n",
       "\n",
       "    .dataframe tbody tr th {\n",
       "        vertical-align: top;\n",
       "    }\n",
       "\n",
       "    .dataframe thead th {\n",
       "        text-align: right;\n",
       "    }\n",
       "</style>\n",
       "<table border=\"1\" class=\"dataframe\">\n",
       "  <thead>\n",
       "    <tr style=\"text-align: right;\">\n",
       "      <th></th>\n",
       "      <th>index</th>\n",
       "      <th>order_to_ready_int</th>\n",
       "    </tr>\n",
       "  </thead>\n",
       "  <tbody>\n",
       "    <tr>\n",
       "      <th>0</th>\n",
       "      <td>count</td>\n",
       "      <td>204.000000</td>\n",
       "    </tr>\n",
       "    <tr>\n",
       "      <th>1</th>\n",
       "      <td>mean</td>\n",
       "      <td>4.176471</td>\n",
       "    </tr>\n",
       "    <tr>\n",
       "      <th>2</th>\n",
       "      <td>std</td>\n",
       "      <td>1.969780</td>\n",
       "    </tr>\n",
       "    <tr>\n",
       "      <th>3</th>\n",
       "      <td>min</td>\n",
       "      <td>0.000000</td>\n",
       "    </tr>\n",
       "    <tr>\n",
       "      <th>4</th>\n",
       "      <td>25%</td>\n",
       "      <td>3.000000</td>\n",
       "    </tr>\n",
       "    <tr>\n",
       "      <th>5</th>\n",
       "      <td>50%</td>\n",
       "      <td>4.000000</td>\n",
       "    </tr>\n",
       "    <tr>\n",
       "      <th>6</th>\n",
       "      <td>75%</td>\n",
       "      <td>6.000000</td>\n",
       "    </tr>\n",
       "    <tr>\n",
       "      <th>7</th>\n",
       "      <td>max</td>\n",
       "      <td>8.000000</td>\n",
       "    </tr>\n",
       "  </tbody>\n",
       "</table>\n",
       "</div>"
      ],
      "text/plain": [
       "   index  order_to_ready_int\n",
       "0  count          204.000000\n",
       "1   mean            4.176471\n",
       "2    std            1.969780\n",
       "3    min            0.000000\n",
       "4    25%            3.000000\n",
       "5    50%            4.000000\n",
       "6    75%            6.000000\n",
       "7    max            8.000000"
      ]
     },
     "execution_count": 65,
     "metadata": {},
     "output_type": "execute_result"
    }
   ],
   "source": [
    "#6. Calculating mean\n",
    "orders_intern_dedup[\"order_to_ready_int\"].describe().reset_index()"
   ]
  },
  {
   "cell_type": "markdown",
   "metadata": {},
   "source": [
    "**KPI1 : ORDER PREP TIME**"
   ]
  },
  {
   "cell_type": "code",
   "execution_count": 66,
   "metadata": {},
   "outputs": [
    {
     "data": {
      "text/plain": [
       "np.float64(4.18)"
      ]
     },
     "execution_count": 66,
     "metadata": {},
     "output_type": "execute_result"
    }
   ],
   "source": [
    "orders_intern_dedup[\"order_to_ready_int\"].mean().round(2)"
   ]
  },
  {
   "cell_type": "markdown",
   "metadata": {},
   "source": [
    "The average time taken for an order to be made ready for shipping from when the order is placed is `4.18 days`.\n",
    "\n",
    "According to the Warehouse Manager, this process should take `2 days`."
   ]
  },
  {
   "cell_type": "markdown",
   "metadata": {},
   "source": [
    "---"
   ]
  },
  {
   "cell_type": "markdown",
   "metadata": {},
   "source": [
    "## KPI 2: Pick up time\n",
    "\n",
    "**How long `on average` does the order take to leave the warehouse from when it is made ready to ship?**\n",
    "\n",
    "Note:  \n",
    "    Warehouse manager estimate: Express processing -  1 day, Standard processing - 2 days \n",
    "  \n",
    "Calculated difference in number of days between On Truck Scan Date and Ready to Ship date\n",
    " - `pickup_date`- `ready_to_ship`\n",
    " - grouped by standard or express processing\n",
    " - use the `mean`to find `average time taken`\n",
    "\n",
    "Steps taken:\n",
    "1. Check for duplicates\n",
    "2. Convert dates to datetime format\n",
    "3. Plot distribution \n",
    "4. Calculate average pick up time"
   ]
  },
  {
   "cell_type": "code",
   "execution_count": 13,
   "metadata": {
    "scrolled": true
   },
   "outputs": [
    {
     "data": {
      "text/plain": [
       "(290, 3)"
      ]
     },
     "execution_count": 13,
     "metadata": {},
     "output_type": "execute_result"
    }
   ],
   "source": [
    "intern_study.shape"
   ]
  },
  {
   "cell_type": "markdown",
   "metadata": {},
   "source": [
    "----\n"
   ]
  },
  {
   "cell_type": "code",
   "execution_count": 67,
   "metadata": {},
   "outputs": [
    {
     "name": "stdout",
     "output_type": "stream",
     "text": [
      "There are 0 duplicated rows.\n"
     ]
    }
   ],
   "source": [
    "#1a. Check for duplicates\n",
    "duplicates = intern_study[intern_study.duplicated()]\n",
    "\n",
    "print(f\"There are {(len(duplicates))} duplicated rows.\")\n",
    "\n",
    "#1b. Drop duplicates\n",
    "intern_study = intern_study.drop_duplicates().copy()\n",
    "\n",
    "#1c. Check for order_id duplicates\n",
    "len(intern_study[intern_study.duplicated(subset=\"order_id\",keep=False)])\n",
    "\n",
    "#2a. Converting dates to datetime format\n",
    "intern_study[\"ready_to_ship_date\"] = pd.to_datetime(intern_study[\"ready_to_ship_date\"])\n",
    "intern_study[\"pickup_date\"] = pd.to_datetime(intern_study[\"pickup_date\"])\n",
    "\n",
    "#2b. Calculate KPI2\n",
    "intern_study[\"ready_to_pickup\"] = intern_study[\"pickup_date\"] - intern_study[\"ready_to_ship_date\"]\n",
    "#2c. Convert to days for plotting \n",
    "intern_study[\"ready_to_pickup_int\"] = intern_study[\"ready_to_pickup\"].dt.days\n"
   ]
  },
  {
   "cell_type": "code",
   "execution_count": 68,
   "metadata": {},
   "outputs": [
    {
     "data": {
      "image/png": "[encoded data removed]",
      "text/plain": [
       "<Figure size 640x480 with 1 Axes>"
      ]
     },
     "metadata": {},
     "output_type": "display_data"
    }
   ],
   "source": [
    "#3. Plot the distribution\n",
    "plt.hist(x=intern_study[\"ready_to_pickup_int\"],bins=4)\n",
    "plt.title(\"Average dispatch time\")\n",
    "plt.xlabel(\"Days\")\n",
    "plt.ylabel(\"Orders\")\n",
    "plt.show();"
   ]
  },
  {
   "cell_type": "markdown",
   "metadata": {},
   "source": [
    "**KPI2 : ORDER PICK UP TIME**"
   ]
  },
  {
   "cell_type": "code",
   "execution_count": 69,
   "metadata": {},
   "outputs": [
    {
     "data": {
      "text/plain": [
       "np.float64(1.57)"
      ]
     },
     "execution_count": 69,
     "metadata": {},
     "output_type": "execute_result"
    }
   ],
   "source": [
    "#4. Calculate average pick up time\n",
    "intern_study[\"ready_to_pickup_int\"].mean().round(2)"
   ]
  },
  {
   "cell_type": "code",
   "execution_count": 35,
   "metadata": {},
   "outputs": [
    {
     "data": {
      "text/html": [
       "<div>\n",
       "<style scoped>\n",
       "    .dataframe tbody tr th:only-of-type {\n",
       "        vertical-align: middle;\n",
       "    }\n",
       "\n",
       "    .dataframe tbody tr th {\n",
       "        vertical-align: top;\n",
       "    }\n",
       "\n",
       "    .dataframe thead th {\n",
       "        text-align: right;\n",
       "    }\n",
       "</style>\n",
       "<table border=\"1\" class=\"dataframe\">\n",
       "  <thead>\n",
       "    <tr style=\"text-align: right;\">\n",
       "      <th></th>\n",
       "      <th>index</th>\n",
       "      <th>dispatch time</th>\n",
       "    </tr>\n",
       "  </thead>\n",
       "  <tbody>\n",
       "    <tr>\n",
       "      <th>0</th>\n",
       "      <td>count</td>\n",
       "      <td>204.000000</td>\n",
       "    </tr>\n",
       "    <tr>\n",
       "      <th>1</th>\n",
       "      <td>mean</td>\n",
       "      <td>1.573529</td>\n",
       "    </tr>\n",
       "    <tr>\n",
       "      <th>2</th>\n",
       "      <td>std</td>\n",
       "      <td>0.951786</td>\n",
       "    </tr>\n",
       "    <tr>\n",
       "      <th>3</th>\n",
       "      <td>min</td>\n",
       "      <td>0.000000</td>\n",
       "    </tr>\n",
       "    <tr>\n",
       "      <th>4</th>\n",
       "      <td>25%</td>\n",
       "      <td>1.000000</td>\n",
       "    </tr>\n",
       "    <tr>\n",
       "      <th>5</th>\n",
       "      <td>50%</td>\n",
       "      <td>2.000000</td>\n",
       "    </tr>\n",
       "    <tr>\n",
       "      <th>6</th>\n",
       "      <td>75%</td>\n",
       "      <td>2.000000</td>\n",
       "    </tr>\n",
       "    <tr>\n",
       "      <th>7</th>\n",
       "      <td>max</td>\n",
       "      <td>3.000000</td>\n",
       "    </tr>\n",
       "  </tbody>\n",
       "</table>\n",
       "</div>"
      ],
      "text/plain": [
       "   index  dispatch time\n",
       "0  count     204.000000\n",
       "1   mean       1.573529\n",
       "2    std       0.951786\n",
       "3    min       0.000000\n",
       "4    25%       1.000000\n",
       "5    50%       2.000000\n",
       "6    75%       2.000000\n",
       "7    max       3.000000"
      ]
     },
     "execution_count": 35,
     "metadata": {},
     "output_type": "execute_result"
    }
   ],
   "source": [
    "intern_study[\"ready_to_pickup_int\"].describe().reset_index(name=\"dispatch time\")"
   ]
  },
  {
   "cell_type": "markdown",
   "metadata": {},
   "source": [
    "The average time taken for order pick up from the warehouse is `1.57 days`. But we need to investigate further.\n",
    "How is this affected by\n",
    "- Express vs. Standard shipping\n",
    "- Weekend vs. Weekday?"
   ]
  },
  {
   "cell_type": "code",
   "execution_count": 92,
   "metadata": {
    "scrolled": true
   },
   "outputs": [],
   "source": [
    "intern_order_process = intern_study.merge(order_process, on=\"order_id\")"
   ]
  },
  {
   "cell_type": "code",
   "execution_count": 94,
   "metadata": {},
   "outputs": [],
   "source": [
    "intern_order_process = intern_order_process.drop_duplicates().copy()"
   ]
  },
  {
   "cell_type": "code",
   "execution_count": 97,
   "metadata": {},
   "outputs": [
    {
     "data": {
      "text/plain": [
       "ship_mode\n",
       "Express                0.396226\n",
       "Standard Processing    1.986755\n",
       "Name: ready_to_pickup_int, dtype: float64"
      ]
     },
     "execution_count": 97,
     "metadata": {},
     "output_type": "execute_result"
    }
   ],
   "source": [
    "intern_order_process.groupby(\"ship_mode\")[\"ready_to_pickup_int\"].mean()"
   ]
  },
  {
   "cell_type": "markdown",
   "metadata": {},
   "source": [
    "---"
   ]
  },
  {
   "cell_type": "markdown",
   "metadata": {},
   "source": [
    "## KPI 3: Delivery time\n",
    "**What is the average time taken for the logistics company to deliver the order?**\n",
    "\n",
    "Difference between `on_truck_scan_date` (order_process) and `arrival_scan_date` (campaign).\n",
    "\n",
    "**Steps taken**\n",
    "\n",
    "1. merge order_process and campaign tables\n",
    "2. check for duplicates and drop if needed\n",
    "3. convert necessary columns to datetime\n",
    "4. plot distribution\n",
    "5. calculate average delivery time \n",
    "\n"
   ]
  },
  {
   "cell_type": "code",
   "execution_count": 70,
   "metadata": {},
   "outputs": [],
   "source": [
    "#1. merge order_process and campaign\n",
    "order_process_campaign =  order_process.merge(campaigns, on=\"order_id\", how=\"inner\")\n",
    "\n",
    "#2. checking for duplicates\n",
    "duplicates = order_process_campaign[order_process_campaign.duplicated()]\n",
    "order_process_campaign =  order_process_campaign.drop_duplicates().copy()\n",
    "\n",
    "#3a. Convert to datetime\n",
    "order_process_campaign[\"on_truck_scan_date\"] = pd.to_datetime(order_process_campaign[\"on_truck_scan_date\"])\n",
    "order_process_campaign[\"arrival_scan_date\"] = pd.to_datetime(order_process_campaign[\"arrival_scan_date\"])\n",
    "\n",
    "#3b. Calculate delivery time and convert to integer for plotting\n",
    "order_process_campaign[\"truck_to_arrival\"] = order_process_campaign[\"arrival_scan_date\"] - pd.to_datetime(order_process_campaign[\"on_truck_scan_date\"])\n",
    "order_process_campaign[\"truck_to_arrival_int\"] = order_process_campaign[\"truck_to_arrival\"].dt.days"
   ]
  },
  {
   "cell_type": "code",
   "execution_count": 71,
   "metadata": {
    "scrolled": true
   },
   "outputs": [
    {
     "data": {
      "image/png": "[encoded data removed]",
      "text/plain": [
       "<Figure size 640x480 with 1 Axes>"
      ]
     },
     "metadata": {},
     "output_type": "display_data"
    }
   ],
   "source": [
    "#4.Plot distribution\n",
    "\n",
    "plt.boxplot(order_process_campaign[\"truck_to_arrival_int\"])\n",
    "plt.title(\"Average delivery time\")\n",
    "plt.ylabel(\"Days\")\n",
    "plt.show();"
   ]
  },
  {
   "cell_type": "markdown",
   "metadata": {},
   "source": [
    "**KPI3: DELIVERY TIME"
   ]
  },
  {
   "cell_type": "code",
   "execution_count": 72,
   "metadata": {
    "scrolled": true
   },
   "outputs": [
    {
     "data": {
      "text/plain": [
       "np.float64(4.6)"
      ]
     },
     "execution_count": 72,
     "metadata": {},
     "output_type": "execute_result"
    }
   ],
   "source": [
    "#5. Calculate average delivery time\n",
    "order_process_campaign[\"truck_to_arrival_int\"].mean().round(2)"
   ]
  },
  {
   "cell_type": "markdown",
   "metadata": {},
   "source": [
    "The average time taken for an order to be delivered by the logistics company is  `4.6 days`.\n",
    "\n",
    "According to the logistics company, this process should take `3 days`."
   ]
  },
  {
   "cell_type": "code",
   "execution_count": 83,
   "metadata": {
    "scrolled": true
   },
   "outputs": [
    {
     "data": {
      "text/html": [
       "<div>\n",
       "<style scoped>\n",
       "    .dataframe tbody tr th:only-of-type {\n",
       "        vertical-align: middle;\n",
       "    }\n",
       "\n",
       "    .dataframe tbody tr th {\n",
       "        vertical-align: top;\n",
       "    }\n",
       "\n",
       "    .dataframe thead th {\n",
       "        text-align: right;\n",
       "    }\n",
       "</style>\n",
       "<table border=\"1\" class=\"dataframe\">\n",
       "  <thead>\n",
       "    <tr style=\"text-align: right;\">\n",
       "      <th></th>\n",
       "      <th>ship_mode</th>\n",
       "      <th>mean</th>\n",
       "    </tr>\n",
       "  </thead>\n",
       "  <tbody>\n",
       "    <tr>\n",
       "      <th>0</th>\n",
       "      <td>Express</td>\n",
       "      <td>4.480000</td>\n",
       "    </tr>\n",
       "    <tr>\n",
       "      <th>1</th>\n",
       "      <td>Standard Processing</td>\n",
       "      <td>4.639535</td>\n",
       "    </tr>\n",
       "  </tbody>\n",
       "</table>\n",
       "</div>"
      ],
      "text/plain": [
       "             ship_mode      mean\n",
       "0              Express  4.480000\n",
       "1  Standard Processing  4.639535"
      ]
     },
     "execution_count": 83,
     "metadata": {},
     "output_type": "execute_result"
    }
   ],
   "source": [
    "order_process_campaign.groupby(\"ship_mode\")[\"truck_to_arrival_int\"].mean().reset_index(name=\"mean\")"
   ]
  },
  {
   "cell_type": "markdown",
   "metadata": {},
   "source": [
    "Seems that there is very minimal difference in delivery time between Express and Standard Processing"
   ]
  },
  {
   "cell_type": "code",
   "execution_count": 86,
   "metadata": {},
   "outputs": [
    {
     "data": {
      "text/plain": [
       "array(['2019-04-24', '2019-04-19', '2019-04-22', '2019-04-25',\n",
       "       '2019-04-23', '2019-04-28', '2019-05-02', '2019-05-03',\n",
       "       '2019-05-05', '2019-05-08', '2019-05-01', '2019-04-30',\n",
       "       '2019-05-06', '2019-05-11', '2019-05-14', '2019-05-09',\n",
       "       '2019-05-10', '2019-05-17', '2019-05-20', '2019-05-15',\n",
       "       '2019-05-16', '2019-05-12', '2019-05-21', '2019-05-26',\n",
       "       '2019-05-19', '2019-05-23', '2019-05-24', '2019-05-30',\n",
       "       '2019-05-22', '2019-05-27', '2019-05-28', '2019-08-28',\n",
       "       '2019-09-02', '2019-09-04', '2019-08-27', '2019-09-03',\n",
       "       '2019-09-05', '2019-09-01', '2019-08-29', '2019-08-30',\n",
       "       '2019-09-08', '2019-09-09', '2019-09-06', '2019-09-10',\n",
       "       '2019-09-11', '2019-09-16', '2019-09-13', '2019-09-19',\n",
       "       '2019-09-15', '2019-09-17', '2019-09-18', '2019-09-20',\n",
       "       '2019-09-26', '2019-09-22', '2019-09-23', '2019-09-24',\n",
       "       '2019-09-25', '2019-09-30', '2019-09-27', '2019-10-06',\n",
       "       '2019-09-29', '2019-10-08', '2019-10-01', '2019-10-02',\n",
       "       '2019-10-03', '2019-10-04', '2019-10-07', '2019-10-09',\n",
       "       '2019-10-11', '2019-10-13', '2019-10-20', '2019-10-21',\n",
       "       '2019-10-22', '2019-10-17', '2019-10-14', '2019-10-15',\n",
       "       '2019-10-25', '2019-10-28', '2019-10-24', '2019-10-29',\n",
       "       '2019-10-27', '2019-11-03', '2019-11-04', '2019-11-05',\n",
       "       '2019-10-31', '2019-11-07', '2019-11-10', '2019-11-08',\n",
       "       '2019-11-14', '2019-11-11', '2019-11-17', '2019-11-13',\n",
       "       '2019-11-20', '2019-11-23', '2019-11-24', '2019-11-18',\n",
       "       '2019-11-19', '2019-11-22', '2019-11-27', '2019-11-25',\n",
       "       '2019-11-29', '2019-11-28', '2019-11-30', '2019-12-03',\n",
       "       '2019-12-01', '2019-12-05', '2019-12-08', '2019-12-09',\n",
       "       '2019-12-02', '2019-12-04', '2019-12-10', '2019-12-11',\n",
       "       '2019-12-16', '2019-12-18', '2019-12-15', '2019-12-12',\n",
       "       '2019-12-20', '2019-12-29', '2019-12-23', '2019-12-27',\n",
       "       '2019-12-22', '2019-12-24', '2019-12-25', '2019-12-26',\n",
       "       '2019-12-30', '2019-12-31', '2020-01-01', '2020-01-03',\n",
       "       '2020-01-07', '2020-01-12', '2020-01-14', '2020-01-20',\n",
       "       '2020-01-21', '2020-01-22', '2020-01-23', '2020-01-27',\n",
       "       '2020-01-28', '2020-01-26', '2020-02-11', '2020-02-09',\n",
       "       '2020-02-17', '2020-02-13', '2020-02-16', '2020-02-23',\n",
       "       '2020-03-02', '2020-02-25', '2020-03-05', '2020-03-03',\n",
       "       '2020-03-06', '2020-03-10', '2020-03-12', '2020-03-20',\n",
       "       '2020-03-14', '2020-03-17', '2020-03-19', '2020-03-24',\n",
       "       '2020-03-30', '2020-03-27', '2020-03-31', '2020-03-26',\n",
       "       '2020-04-10', '2020-04-09', '2020-04-13', '2020-04-16',\n",
       "       '2020-04-21', '2020-04-17', '2020-04-25', '2020-05-11',\n",
       "       '2020-05-08', '2020-05-07'], dtype=object)"
      ]
     },
     "execution_count": 86,
     "metadata": {},
     "output_type": "execute_result"
    }
   ],
   "source": [
    "order_process_campaign[\"order_date\"].unique()"
   ]
  },
  {
   "cell_type": "code",
   "execution_count": 84,
   "metadata": {
    "scrolled": true
   },
   "outputs": [
    {
     "data": {
      "text/html": [
       "<div>\n",
       "<style scoped>\n",
       "    .dataframe tbody tr th:only-of-type {\n",
       "        vertical-align: middle;\n",
       "    }\n",
       "\n",
       "    .dataframe tbody tr th {\n",
       "        vertical-align: top;\n",
       "    }\n",
       "\n",
       "    .dataframe thead th {\n",
       "        text-align: right;\n",
       "    }\n",
       "</style>\n",
       "<table border=\"1\" class=\"dataframe\">\n",
       "  <thead>\n",
       "    <tr style=\"text-align: right;\">\n",
       "      <th></th>\n",
       "      <th>order_id</th>\n",
       "      <th>order_date</th>\n",
       "      <th>on_truck_scan_date</th>\n",
       "      <th>ship_mode</th>\n",
       "      <th>arrival_scan_date</th>\n",
       "      <th>truck_to_arrival</th>\n",
       "      <th>truck_to_arrival_int</th>\n",
       "    </tr>\n",
       "  </thead>\n",
       "  <tbody>\n",
       "    <tr>\n",
       "      <th>0</th>\n",
       "      <td>CA-2019-138933</td>\n",
       "      <td>2019-04-24</td>\n",
       "      <td>2019-04-29</td>\n",
       "      <td>Express</td>\n",
       "      <td>2019-05-03</td>\n",
       "      <td>4 days</td>\n",
       "      <td>4</td>\n",
       "    </tr>\n",
       "    <tr>\n",
       "      <th>1</th>\n",
       "      <td>CA-2019-109666</td>\n",
       "      <td>2019-04-19</td>\n",
       "      <td>2019-04-29</td>\n",
       "      <td>Standard Processing</td>\n",
       "      <td>2019-05-03</td>\n",
       "      <td>4 days</td>\n",
       "      <td>4</td>\n",
       "    </tr>\n",
       "    <tr>\n",
       "      <th>8</th>\n",
       "      <td>CA-2019-113061</td>\n",
       "      <td>2019-04-22</td>\n",
       "      <td>2019-04-29</td>\n",
       "      <td>Standard Processing</td>\n",
       "      <td>2019-05-06</td>\n",
       "      <td>7 days</td>\n",
       "      <td>7</td>\n",
       "    </tr>\n",
       "    <tr>\n",
       "      <th>9</th>\n",
       "      <td>CA-2019-168081</td>\n",
       "      <td>2019-04-24</td>\n",
       "      <td>2019-05-01</td>\n",
       "      <td>Standard Processing</td>\n",
       "      <td>2019-05-06</td>\n",
       "      <td>5 days</td>\n",
       "      <td>5</td>\n",
       "    </tr>\n",
       "    <tr>\n",
       "      <th>10</th>\n",
       "      <td>US-2019-150147</td>\n",
       "      <td>2019-04-25</td>\n",
       "      <td>2019-05-01</td>\n",
       "      <td>Standard Processing</td>\n",
       "      <td>2019-05-07</td>\n",
       "      <td>6 days</td>\n",
       "      <td>6</td>\n",
       "    </tr>\n",
       "    <tr>\n",
       "      <th>...</th>\n",
       "      <td>...</td>\n",
       "      <td>...</td>\n",
       "      <td>...</td>\n",
       "      <td>...</td>\n",
       "      <td>...</td>\n",
       "      <td>...</td>\n",
       "      <td>...</td>\n",
       "    </tr>\n",
       "    <tr>\n",
       "      <th>660</th>\n",
       "      <td>CA-2020-125381</td>\n",
       "      <td>2020-04-25</td>\n",
       "      <td>2020-05-01</td>\n",
       "      <td>Standard Processing</td>\n",
       "      <td>2020-05-08</td>\n",
       "      <td>7 days</td>\n",
       "      <td>7</td>\n",
       "    </tr>\n",
       "    <tr>\n",
       "      <th>661</th>\n",
       "      <td>CA-2020-129707</td>\n",
       "      <td>2020-04-25</td>\n",
       "      <td>2020-05-04</td>\n",
       "      <td>Standard Processing</td>\n",
       "      <td>2020-05-08</td>\n",
       "      <td>4 days</td>\n",
       "      <td>4</td>\n",
       "    </tr>\n",
       "    <tr>\n",
       "      <th>662</th>\n",
       "      <td>US-2020-139647</td>\n",
       "      <td>2020-05-11</td>\n",
       "      <td>2020-05-13</td>\n",
       "      <td>Express</td>\n",
       "      <td>2020-05-15</td>\n",
       "      <td>2 days</td>\n",
       "      <td>2</td>\n",
       "    </tr>\n",
       "    <tr>\n",
       "      <th>663</th>\n",
       "      <td>US-2020-104451</td>\n",
       "      <td>2020-05-08</td>\n",
       "      <td>2020-05-13</td>\n",
       "      <td>Standard Processing</td>\n",
       "      <td>2020-05-15</td>\n",
       "      <td>2 days</td>\n",
       "      <td>2</td>\n",
       "    </tr>\n",
       "    <tr>\n",
       "      <th>664</th>\n",
       "      <td>CA-2020-141733</td>\n",
       "      <td>2020-05-07</td>\n",
       "      <td>2020-05-13</td>\n",
       "      <td>Standard Processing</td>\n",
       "      <td>2020-05-15</td>\n",
       "      <td>2 days</td>\n",
       "      <td>2</td>\n",
       "    </tr>\n",
       "  </tbody>\n",
       "</table>\n",
       "<p>333 rows × 7 columns</p>\n",
       "</div>"
      ],
      "text/plain": [
       "           order_id  order_date on_truck_scan_date            ship_mode  \\\n",
       "0    CA-2019-138933  2019-04-24         2019-04-29              Express   \n",
       "1    CA-2019-109666  2019-04-19         2019-04-29  Standard Processing   \n",
       "8    CA-2019-113061  2019-04-22         2019-04-29  Standard Processing   \n",
       "9    CA-2019-168081  2019-04-24         2019-05-01  Standard Processing   \n",
       "10   US-2019-150147  2019-04-25         2019-05-01  Standard Processing   \n",
       "..              ...         ...                ...                  ...   \n",
       "660  CA-2020-125381  2020-04-25         2020-05-01  Standard Processing   \n",
       "661  CA-2020-129707  2020-04-25         2020-05-04  Standard Processing   \n",
       "662  US-2020-139647  2020-05-11         2020-05-13              Express   \n",
       "663  US-2020-104451  2020-05-08         2020-05-13  Standard Processing   \n",
       "664  CA-2020-141733  2020-05-07         2020-05-13  Standard Processing   \n",
       "\n",
       "    arrival_scan_date truck_to_arrival  truck_to_arrival_int  \n",
       "0          2019-05-03           4 days                     4  \n",
       "1          2019-05-03           4 days                     4  \n",
       "8          2019-05-06           7 days                     7  \n",
       "9          2019-05-06           5 days                     5  \n",
       "10         2019-05-07           6 days                     6  \n",
       "..                ...              ...                   ...  \n",
       "660        2020-05-08           7 days                     7  \n",
       "661        2020-05-08           4 days                     4  \n",
       "662        2020-05-15           2 days                     2  \n",
       "663        2020-05-15           2 days                     2  \n",
       "664        2020-05-15           2 days                     2  \n",
       "\n",
       "[333 rows x 7 columns]"
      ]
     },
     "execution_count": 84,
     "metadata": {},
     "output_type": "execute_result"
    }
   ],
   "source": [
    "order_process_campaign"
   ]
  },
  {
   "cell_type": "markdown",
   "metadata": {},
   "source": [
    "It seems that the data comes from two distinct time periods; 2019 and 2020. Perhaps it would be useful to see compare delivery times between the two years or compare by month\n"
   ]
  },
  {
   "cell_type": "markdown",
   "metadata": {},
   "source": [
    "\n",
    "\n",
    "-----------------------"
   ]
  },
  {
   "cell_type": "markdown",
   "metadata": {},
   "source": [
    "## KPI 4: Total order cycle time\n",
    "\n",
    "**What is the `average time taken` for a customer to receive an order after they have placed it?** \n",
    "\n",
    "\n",
    "**Steps to be taken:**\n",
    "\n",
    "campaign table has `arrival_scan_date` and order table has `order_date`.\n",
    "\n",
    "1. Merge orders and campaign\n",
    "2. Inspect and drop duplicates\n",
    "3. Convert dates to datetime if needed\n",
    "4. Calculate the difference in number of days between the order date and the arrival_scan_date\n",
    "`arrival_scan_date - order_date`\n",
    "5. Plot distribution\n",
    "6. Use the `mean` to find `average time taken`** ."
   ]
  },
  {
   "cell_type": "code",
   "execution_count": 78,
   "metadata": {},
   "outputs": [
    {
     "name": "stdout",
     "output_type": "stream",
     "text": [
      "333\n"
     ]
    }
   ],
   "source": [
    "#1. merge orders and campaign\n",
    "order_cycle = orders.merge(campaigns, on=\"order_id\", how=\"inner\")\n",
    "\n",
    "#2. Inspect duplicates\n",
    "order_cycle[order_cycle.duplicated(keep=False)]\n",
    "\n",
    "#order_id duplicates?\n",
    "len(order_cycle[order_cycle.duplicated(subset=\"order_id\",keep=False)])\n",
    "\n",
    "#drop them\n",
    "order_cycle = order_cycle.drop_duplicates(subset=\"order_id\").copy()\n",
    "print(len(order_cycle))\n",
    "\n",
    "#3. Convert to datetime\n",
    "order_cycle[\"order_date\"] = pd.to_datetime(order_cycle[\"order_date\"])\n",
    "order_cycle[\"arrival_scan_date\"] = pd.to_datetime(order_cycle[\"arrival_scan_date\"])\n",
    "\n",
    "#4. Calculate the difference between arrival_scan_date and order_date\n",
    "order_cycle[\"order_cycle_time\"] = order_cycle[\"arrival_scan_date\"] - order_cycle[\"order_date\"]\n",
    "order_cycle[\"order_cycle_time_int\"] = order_cycle[\"order_cycle_time\"].dt.days\n"
   ]
  },
  {
   "cell_type": "code",
   "execution_count": 77,
   "metadata": {},
   "outputs": [
    {
     "data": {
      "image/png": "[encoded data removed]",
      "text/plain": [
       "<Figure size 640x480 with 1 Axes>"
      ]
     },
     "metadata": {},
     "output_type": "display_data"
    }
   ],
   "source": [
    "#5. Plotting the distribution of time taken from order placed to order ready in warehouse\n",
    "plt.boxplot(x=order_cycle[\"order_cycle_time_int\"])\n",
    "plt.ylim([0,18])\n",
    "plt.title(\"Order lead time\")\n",
    "plt.ylabel(\"Days\")\n",
    "plt.show();"
   ]
  },
  {
   "cell_type": "code",
   "execution_count": 74,
   "metadata": {},
   "outputs": [
    {
     "data": {
      "text/html": [
       "<div>\n",
       "<style scoped>\n",
       "    .dataframe tbody tr th:only-of-type {\n",
       "        vertical-align: middle;\n",
       "    }\n",
       "\n",
       "    .dataframe tbody tr th {\n",
       "        vertical-align: top;\n",
       "    }\n",
       "\n",
       "    .dataframe thead th {\n",
       "        text-align: right;\n",
       "    }\n",
       "</style>\n",
       "<table border=\"1\" class=\"dataframe\">\n",
       "  <thead>\n",
       "    <tr style=\"text-align: right;\">\n",
       "      <th></th>\n",
       "      <th>index</th>\n",
       "      <th>lead time</th>\n",
       "    </tr>\n",
       "  </thead>\n",
       "  <tbody>\n",
       "    <tr>\n",
       "      <th>0</th>\n",
       "      <td>count</td>\n",
       "      <td>333.000000</td>\n",
       "    </tr>\n",
       "    <tr>\n",
       "      <th>1</th>\n",
       "      <td>mean</td>\n",
       "      <td>10.834835</td>\n",
       "    </tr>\n",
       "    <tr>\n",
       "      <th>2</th>\n",
       "      <td>std</td>\n",
       "      <td>2.862257</td>\n",
       "    </tr>\n",
       "    <tr>\n",
       "      <th>3</th>\n",
       "      <td>min</td>\n",
       "      <td>3.000000</td>\n",
       "    </tr>\n",
       "    <tr>\n",
       "      <th>4</th>\n",
       "      <td>25%</td>\n",
       "      <td>9.000000</td>\n",
       "    </tr>\n",
       "    <tr>\n",
       "      <th>5</th>\n",
       "      <td>50%</td>\n",
       "      <td>11.000000</td>\n",
       "    </tr>\n",
       "    <tr>\n",
       "      <th>6</th>\n",
       "      <td>75%</td>\n",
       "      <td>13.000000</td>\n",
       "    </tr>\n",
       "    <tr>\n",
       "      <th>7</th>\n",
       "      <td>max</td>\n",
       "      <td>17.000000</td>\n",
       "    </tr>\n",
       "  </tbody>\n",
       "</table>\n",
       "</div>"
      ],
      "text/plain": [
       "   index   lead time\n",
       "0  count  333.000000\n",
       "1   mean   10.834835\n",
       "2    std    2.862257\n",
       "3    min    3.000000\n",
       "4    25%    9.000000\n",
       "5    50%   11.000000\n",
       "6    75%   13.000000\n",
       "7    max   17.000000"
      ]
     },
     "execution_count": 74,
     "metadata": {},
     "output_type": "execute_result"
    }
   ],
   "source": [
    "order_cycle[\"order_cycle_time_int\"].describe().reset_index(name=\"lead time\")"
   ]
  },
  {
   "cell_type": "markdown",
   "metadata": {},
   "source": [
    "**KPI4 : TOTAL CYCLE TIME**\n"
   ]
  },
  {
   "cell_type": "code",
   "execution_count": 75,
   "metadata": {},
   "outputs": [
    {
     "data": {
      "text/plain": [
       "np.float64(10.83)"
      ]
     },
     "execution_count": 75,
     "metadata": {},
     "output_type": "execute_result"
    }
   ],
   "source": [
    "order_cycle[\"order_cycle_time_int\"].mean().round(2)"
   ]
  },
  {
   "cell_type": "markdown",
   "metadata": {},
   "source": [
    "The average time taken for an order to delivered to the customer from when the order is placed is `10.83 days`.\n"
   ]
  },
  {
   "cell_type": "code",
   "execution_count": 34,
   "metadata": {},
   "outputs": [
    {
     "data": {
      "image/png": "[encoded data removed]",
      "text/plain": [
       "<Figure size 640x480 with 1 Axes>"
      ]
     },
     "metadata": {},
     "output_type": "display_data"
    }
   ],
   "source": []
  }
 ],
 "metadata": {
  "kernelspec": {
   "display_name": "Python 3 (ipykernel)",
   "language": "python",
   "name": "python3"
  },
  "language_info": {
   "codemirror_mode": {
    "name": "ipython",
    "version": 3
   },
   "file_extension": ".py",
   "mimetype": "text/x-python",
   "name": "python",
   "nbconvert_exporter": "python",
   "pygments_lexer": "ipython3",
   "version": "3.12.4"
  }
 },
 "nbformat": 4,
 "nbformat_minor": 4
}
