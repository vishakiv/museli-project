{
 "cells": [
  {
   "cell_type": "markdown",
   "metadata": {},
   "source": [
    "### Loading in the cleaned data and setting up my environment"
   ]
  },
  {
   "cell_type": "code",
   "execution_count": 1,
   "metadata": {},
   "outputs": [],
   "source": [
    "import pandas as pd\n",
    "import matplotlib.pyplot as plt\n",
    "import seaborn as sns"
   ]
  },
  {
   "cell_type": "code",
   "execution_count": 2,
   "metadata": {},
   "outputs": [],
   "source": [
    "plt.style.use(\"fast\")"
   ]
  },
  {
   "cell_type": "code",
   "execution_count": 3,
   "metadata": {},
   "outputs": [],
   "source": [
    "orders = pd.read_csv(\"orders_cleaned.csv\")\n",
    "campaigns= pd.read_csv(\"campaign_cleaned.csv\")\n",
    "order_process = pd.read_csv(\"order_process_cleaned.csv\")\n",
    "intern_study = pd.read_csv(\"intern_study_cleaned.csv\")"
   ]
  },
  {
   "cell_type": "code",
   "execution_count": 4,
   "metadata": {},
   "outputs": [
    {
     "data": {
      "text/html": [
       "<div>\n",
       "<style scoped>\n",
       "    .dataframe tbody tr th:only-of-type {\n",
       "        vertical-align: middle;\n",
       "    }\n",
       "\n",
       "    .dataframe tbody tr th {\n",
       "        vertical-align: top;\n",
       "    }\n",
       "\n",
       "    .dataframe thead th {\n",
       "        text-align: right;\n",
       "    }\n",
       "</style>\n",
       "<table border=\"1\" class=\"dataframe\">\n",
       "  <thead>\n",
       "    <tr style=\"text-align: right;\">\n",
       "      <th></th>\n",
       "      <th>order_id</th>\n",
       "      <th>order_date</th>\n",
       "      <th>ship_mode</th>\n",
       "      <th>product_id</th>\n",
       "    </tr>\n",
       "  </thead>\n",
       "  <tbody>\n",
       "    <tr>\n",
       "      <th>0</th>\n",
       "      <td>CA-2019-121755</td>\n",
       "      <td>2019-01-16</td>\n",
       "      <td>Second Class</td>\n",
       "      <td>TEC-AC-10003027</td>\n",
       "    </tr>\n",
       "    <tr>\n",
       "      <th>1</th>\n",
       "      <td>CA-2019-118255</td>\n",
       "      <td>2019-03-11</td>\n",
       "      <td>First Class</td>\n",
       "      <td>TEC-AC-10000171</td>\n",
       "    </tr>\n",
       "    <tr>\n",
       "      <th>2</th>\n",
       "      <td>CA-2019-169194</td>\n",
       "      <td>2019-06-20</td>\n",
       "      <td>Standard Class</td>\n",
       "      <td>TEC-AC-10002167</td>\n",
       "    </tr>\n",
       "    <tr>\n",
       "      <th>3</th>\n",
       "      <td>CA-2019-111682</td>\n",
       "      <td>2019-06-17</td>\n",
       "      <td>First Class</td>\n",
       "      <td>TEC-AC-10002167</td>\n",
       "    </tr>\n",
       "    <tr>\n",
       "      <th>4</th>\n",
       "      <td>CA-2018-135545</td>\n",
       "      <td>2018-11-24</td>\n",
       "      <td>Standard Class</td>\n",
       "      <td>TEC-AC-10004633</td>\n",
       "    </tr>\n",
       "  </tbody>\n",
       "</table>\n",
       "</div>"
      ],
      "text/plain": [
       "         order_id  order_date       ship_mode       product_id\n",
       "0  CA-2019-121755  2019-01-16    Second Class  TEC-AC-10003027\n",
       "1  CA-2019-118255  2019-03-11     First Class  TEC-AC-10000171\n",
       "2  CA-2019-169194  2019-06-20  Standard Class  TEC-AC-10002167\n",
       "3  CA-2019-111682  2019-06-17     First Class  TEC-AC-10002167\n",
       "4  CA-2018-135545  2018-11-24  Standard Class  TEC-AC-10004633"
      ]
     },
     "execution_count": 4,
     "metadata": {},
     "output_type": "execute_result"
    }
   ],
   "source": [
    "orders.head()"
   ]
  },
  {
   "cell_type": "code",
   "execution_count": 5,
   "metadata": {
    "scrolled": true
   },
   "outputs": [
    {
     "data": {
      "text/html": [
       "<div>\n",
       "<style scoped>\n",
       "    .dataframe tbody tr th:only-of-type {\n",
       "        vertical-align: middle;\n",
       "    }\n",
       "\n",
       "    .dataframe tbody tr th {\n",
       "        vertical-align: top;\n",
       "    }\n",
       "\n",
       "    .dataframe thead th {\n",
       "        text-align: right;\n",
       "    }\n",
       "</style>\n",
       "<table border=\"1\" class=\"dataframe\">\n",
       "  <thead>\n",
       "    <tr style=\"text-align: right;\">\n",
       "      <th></th>\n",
       "      <th>order_id</th>\n",
       "      <th>arrival_scan_date</th>\n",
       "    </tr>\n",
       "  </thead>\n",
       "  <tbody>\n",
       "    <tr>\n",
       "      <th>0</th>\n",
       "      <td>CA-2019-109666</td>\n",
       "      <td>2019-05-03</td>\n",
       "    </tr>\n",
       "    <tr>\n",
       "      <th>1</th>\n",
       "      <td>CA-2019-138933</td>\n",
       "      <td>2019-05-03</td>\n",
       "    </tr>\n",
       "    <tr>\n",
       "      <th>2</th>\n",
       "      <td>CA-2019-130001</td>\n",
       "      <td>2019-05-03</td>\n",
       "    </tr>\n",
       "    <tr>\n",
       "      <th>3</th>\n",
       "      <td>CA-2019-113061</td>\n",
       "      <td>2019-05-06</td>\n",
       "    </tr>\n",
       "    <tr>\n",
       "      <th>4</th>\n",
       "      <td>CA-2019-162138</td>\n",
       "      <td>2019-05-06</td>\n",
       "    </tr>\n",
       "  </tbody>\n",
       "</table>\n",
       "</div>"
      ],
      "text/plain": [
       "         order_id arrival_scan_date\n",
       "0  CA-2019-109666        2019-05-03\n",
       "1  CA-2019-138933        2019-05-03\n",
       "2  CA-2019-130001        2019-05-03\n",
       "3  CA-2019-113061        2019-05-06\n",
       "4  CA-2019-162138        2019-05-06"
      ]
     },
     "execution_count": 5,
     "metadata": {},
     "output_type": "execute_result"
    }
   ],
   "source": [
    "campaigns.head()"
   ]
  },
  {
   "cell_type": "code",
   "execution_count": 6,
   "metadata": {},
   "outputs": [
    {
     "data": {
      "text/html": [
       "<div>\n",
       "<style scoped>\n",
       "    .dataframe tbody tr th:only-of-type {\n",
       "        vertical-align: middle;\n",
       "    }\n",
       "\n",
       "    .dataframe tbody tr th {\n",
       "        vertical-align: top;\n",
       "    }\n",
       "\n",
       "    .dataframe thead th {\n",
       "        text-align: right;\n",
       "    }\n",
       "</style>\n",
       "<table border=\"1\" class=\"dataframe\">\n",
       "  <thead>\n",
       "    <tr style=\"text-align: right;\">\n",
       "      <th></th>\n",
       "      <th>order_id</th>\n",
       "      <th>ready_to_ship_date</th>\n",
       "      <th>pickup_date</th>\n",
       "    </tr>\n",
       "  </thead>\n",
       "  <tbody>\n",
       "    <tr>\n",
       "      <th>0</th>\n",
       "      <td>CA-2019-116540</td>\n",
       "      <td>2019-09-02</td>\n",
       "      <td>2019-09-03</td>\n",
       "    </tr>\n",
       "    <tr>\n",
       "      <th>1</th>\n",
       "      <td>CA-2019-116540</td>\n",
       "      <td>2019-09-02</td>\n",
       "      <td>2019-09-03</td>\n",
       "    </tr>\n",
       "    <tr>\n",
       "      <th>2</th>\n",
       "      <td>CA-2019-129847</td>\n",
       "      <td>2019-09-04</td>\n",
       "      <td>2019-09-04</td>\n",
       "    </tr>\n",
       "    <tr>\n",
       "      <th>3</th>\n",
       "      <td>CA-2019-129630</td>\n",
       "      <td>2019-09-04</td>\n",
       "      <td>2019-09-04</td>\n",
       "    </tr>\n",
       "    <tr>\n",
       "      <th>4</th>\n",
       "      <td>CA-2019-106278</td>\n",
       "      <td>2019-09-05</td>\n",
       "      <td>2019-09-06</td>\n",
       "    </tr>\n",
       "  </tbody>\n",
       "</table>\n",
       "</div>"
      ],
      "text/plain": [
       "         order_id ready_to_ship_date pickup_date\n",
       "0  CA-2019-116540         2019-09-02  2019-09-03\n",
       "1  CA-2019-116540         2019-09-02  2019-09-03\n",
       "2  CA-2019-129847         2019-09-04  2019-09-04\n",
       "3  CA-2019-129630         2019-09-04  2019-09-04\n",
       "4  CA-2019-106278         2019-09-05  2019-09-06"
      ]
     },
     "execution_count": 6,
     "metadata": {},
     "output_type": "execute_result"
    }
   ],
   "source": [
    "intern_study.head()"
   ]
  },
  {
   "cell_type": "code",
   "execution_count": 7,
   "metadata": {
    "scrolled": true
   },
   "outputs": [
    {
     "data": {
      "text/html": [
       "<div>\n",
       "<style scoped>\n",
       "    .dataframe tbody tr th:only-of-type {\n",
       "        vertical-align: middle;\n",
       "    }\n",
       "\n",
       "    .dataframe tbody tr th {\n",
       "        vertical-align: top;\n",
       "    }\n",
       "\n",
       "    .dataframe thead th {\n",
       "        text-align: right;\n",
       "    }\n",
       "</style>\n",
       "<table border=\"1\" class=\"dataframe\">\n",
       "  <thead>\n",
       "    <tr style=\"text-align: right;\">\n",
       "      <th></th>\n",
       "      <th>order_id</th>\n",
       "      <th>order_date</th>\n",
       "      <th>on_truck_scan_date</th>\n",
       "      <th>ship_mode</th>\n",
       "    </tr>\n",
       "  </thead>\n",
       "  <tbody>\n",
       "    <tr>\n",
       "      <th>0</th>\n",
       "      <td>CA-2019-125206</td>\n",
       "      <td>2019-01-03</td>\n",
       "      <td>2019-01-07</td>\n",
       "      <td>Express</td>\n",
       "    </tr>\n",
       "    <tr>\n",
       "      <th>1</th>\n",
       "      <td>CA-2019-160304</td>\n",
       "      <td>2019-01-02</td>\n",
       "      <td>2019-01-09</td>\n",
       "      <td>Standard Processing</td>\n",
       "    </tr>\n",
       "    <tr>\n",
       "      <th>2</th>\n",
       "      <td>CA-2019-160304</td>\n",
       "      <td>2019-01-02</td>\n",
       "      <td>2019-01-09</td>\n",
       "      <td>Standard Processing</td>\n",
       "    </tr>\n",
       "    <tr>\n",
       "      <th>3</th>\n",
       "      <td>US-2019-116365</td>\n",
       "      <td>2019-01-03</td>\n",
       "      <td>2019-01-09</td>\n",
       "      <td>Standard Processing</td>\n",
       "    </tr>\n",
       "    <tr>\n",
       "      <th>4</th>\n",
       "      <td>US-2019-116365</td>\n",
       "      <td>2019-01-03</td>\n",
       "      <td>2019-01-09</td>\n",
       "      <td>Standard Processing</td>\n",
       "    </tr>\n",
       "    <tr>\n",
       "      <th>...</th>\n",
       "      <td>...</td>\n",
       "      <td>...</td>\n",
       "      <td>...</td>\n",
       "      <td>...</td>\n",
       "    </tr>\n",
       "    <tr>\n",
       "      <th>5894</th>\n",
       "      <td>CA-2020-143259</td>\n",
       "      <td>2020-12-30</td>\n",
       "      <td>2021-01-06</td>\n",
       "      <td>Standard Processing</td>\n",
       "    </tr>\n",
       "    <tr>\n",
       "      <th>5895</th>\n",
       "      <td>CA-2020-143259</td>\n",
       "      <td>2020-12-30</td>\n",
       "      <td>2021-01-06</td>\n",
       "      <td>Standard Processing</td>\n",
       "    </tr>\n",
       "    <tr>\n",
       "      <th>5896</th>\n",
       "      <td>CA-2020-115427</td>\n",
       "      <td>2020-12-30</td>\n",
       "      <td>2021-01-06</td>\n",
       "      <td>Standard Processing</td>\n",
       "    </tr>\n",
       "    <tr>\n",
       "      <th>5897</th>\n",
       "      <td>CA-2020-115427</td>\n",
       "      <td>2020-12-30</td>\n",
       "      <td>2021-01-06</td>\n",
       "      <td>Standard Processing</td>\n",
       "    </tr>\n",
       "    <tr>\n",
       "      <th>5898</th>\n",
       "      <td>CA-2020-156720</td>\n",
       "      <td>2020-12-30</td>\n",
       "      <td>2021-01-06</td>\n",
       "      <td>Standard Processing</td>\n",
       "    </tr>\n",
       "  </tbody>\n",
       "</table>\n",
       "<p>5899 rows × 4 columns</p>\n",
       "</div>"
      ],
      "text/plain": [
       "            order_id  order_date on_truck_scan_date            ship_mode\n",
       "0     CA-2019-125206  2019-01-03         2019-01-07              Express\n",
       "1     CA-2019-160304  2019-01-02         2019-01-09  Standard Processing\n",
       "2     CA-2019-160304  2019-01-02         2019-01-09  Standard Processing\n",
       "3     US-2019-116365  2019-01-03         2019-01-09  Standard Processing\n",
       "4     US-2019-116365  2019-01-03         2019-01-09  Standard Processing\n",
       "...              ...         ...                ...                  ...\n",
       "5894  CA-2020-143259  2020-12-30         2021-01-06  Standard Processing\n",
       "5895  CA-2020-143259  2020-12-30         2021-01-06  Standard Processing\n",
       "5896  CA-2020-115427  2020-12-30         2021-01-06  Standard Processing\n",
       "5897  CA-2020-115427  2020-12-30         2021-01-06  Standard Processing\n",
       "5898  CA-2020-156720  2020-12-30         2021-01-06  Standard Processing\n",
       "\n",
       "[5899 rows x 4 columns]"
      ]
     },
     "execution_count": 7,
     "metadata": {},
     "output_type": "execute_result"
    }
   ],
   "source": [
    "order_process"
   ]
  },
  {
   "cell_type": "markdown",
   "metadata": {},
   "source": [
    "![Flowchart and KPIs](Flowchart%20Museli.png)\n"
   ]
  },
  {
   "cell_type": "markdown",
   "metadata": {},
   "source": [
    "## KPI 1: Order Prep Time\n",
    "\n",
    "**What is the `average time taken` for an order to be prepared for shipping?** \n",
    "\n",
    "This includes the processing that takes place between the following phases: \n",
    "- order is received by the system\n",
    "- items in the order will be picked and packed\n",
    "- order will be marked as \"ready to ship\"\n",
    "\n",
    "Calculated difference in number of days between the order date  and the ready to ship date\n",
    "`ready_to_ship - order_date`.  \n",
    "Use the `mean` to find `average time taken` .\n",
    "\n",
    "**Steps to take:**\n",
    "1. Merge orders and intern_study\n",
    "2. Inspect and drop any duplicate rows\n",
    "3. Convert dates to datetime\n",
    "4. Extract day of week\n",
    "5. Calculate the difference in number of days between the order date and the arrival_scan_date\n",
    "`arrival_scan_date - order_date`\n",
    "6. Use the `mean` to find `average time taken`** .\n"
   ]
  },
  {
   "cell_type": "code",
   "execution_count": 8,
   "metadata": {},
   "outputs": [
    {
     "name": "stdout",
     "output_type": "stream",
     "text": [
      "417\n",
      "204\n"
     ]
    }
   ],
   "source": [
    "#1. merge intern_study and orders on order_id\n",
    "orders_intern = orders.merge(intern_study,on=\"order_id\", how=\"inner\") \n",
    "\n",
    "# check for the shape, 753 rows\n",
    "orders_intern.shape\n",
    "\n",
    "duplicates = orders_intern[orders_intern.duplicated(keep=False)]\n",
    "\n",
    "#2. dropping duplicate rows\n",
    "orders_intern_dedup = orders_intern.drop_duplicates().copy()\n",
    "\n",
    "#checking for duplicates in order_id\n",
    "orders_intern_dedup.duplicated(subset=[\"order_id\"]).value_counts()\n",
    "\n",
    "orders_intern_dedup[orders_intern_dedup.duplicated(subset=\"order_id\",keep=False)].sort_values(\"order_id\")\n",
    "print(len(orders_intern_dedup))\n",
    "\n",
    "#2b. Dropping duplicate order_ids\n",
    "orders_intern_dedup = orders_intern_dedup.drop_duplicates(subset=\"order_id\")\n",
    "print(len(orders_intern_dedup))\n",
    "\n",
    "#3. casting order_date and ready_to_ship_date to datetime format\n",
    "orders_intern_dedup[\"order_date\"] = pd.to_datetime(orders_intern_dedup[\"order_date\"])\n",
    "orders_intern_dedup[\"ready_to_ship_date\"] = pd.to_datetime(orders_intern_dedup[\"ready_to_ship_date\"])\n",
    "orders_intern_dedup[\"pickup_date\"] = pd.to_datetime(orders_intern_dedup[\"pickup_date\"])\n",
    "\n",
    "#4. extracting day of week\n",
    "orders_intern_dedup[\"order_date_dow\"] = orders_intern_dedup[\"order_date\"].dt.day_name()\n",
    "\n",
    "#5. Calculating difference \n",
    "orders_intern_dedup[\"order_to_ready\"] = orders_intern_dedup[\"ready_to_ship_date\"] - orders_intern_dedup[\"order_date\"]\n",
    "orders_intern_dedup[\"order_to_ready_int\"] = orders_intern_dedup[\"order_to_ready\"].dt.days"
   ]
  },
  {
   "cell_type": "markdown",
   "metadata": {},
   "source": [
    "There are duplicates in the order_id. This makes sense because if many products are ordered in the same session, there will be one order_id generated for the whole order, but many rows for each product ordered. My assumption is that the ready to ship date and order date will match for each row with a duplicated order_id. Let´s check that first."
   ]
  },
  {
   "cell_type": "markdown",
   "metadata": {},
   "source": [
    "The check of duplicated order id´s show that all individual products with the same order id have the same dates associated.  \n",
    "Therefore, these rows can be safely dropped, keeping only unique order id´s. "
   ]
  },
  {
   "cell_type": "code",
   "execution_count": 9,
   "metadata": {
    "scrolled": true
   },
   "outputs": [
    {
     "data": {
      "image/png": "[encoded data removed]",
      "text/plain": [
       "<Figure size 640x480 with 1 Axes>"
      ]
     },
     "metadata": {},
     "output_type": "display_data"
    }
   ],
   "source": [
    "#Plotting the distribution of time taken from order placed to order ready in warehouse\n",
    "plt.boxplot(x=orders_intern_dedup[\"order_to_ready_int\"])\n",
    "plt.title(\"Time taken from order being placed to order ready to ship\")\n",
    "plt.ylabel(\"Days\")\n",
    "plt.show();"
   ]
  },
  {
   "cell_type": "code",
   "execution_count": 10,
   "metadata": {},
   "outputs": [
    {
     "data": {
      "text/html": [
       "<div>\n",
       "<style scoped>\n",
       "    .dataframe tbody tr th:only-of-type {\n",
       "        vertical-align: middle;\n",
       "    }\n",
       "\n",
       "    .dataframe tbody tr th {\n",
       "        vertical-align: top;\n",
       "    }\n",
       "\n",
       "    .dataframe thead th {\n",
       "        text-align: right;\n",
       "    }\n",
       "</style>\n",
       "<table border=\"1\" class=\"dataframe\">\n",
       "  <thead>\n",
       "    <tr style=\"text-align: right;\">\n",
       "      <th></th>\n",
       "      <th>index</th>\n",
       "      <th>order_to_ready_int</th>\n",
       "    </tr>\n",
       "  </thead>\n",
       "  <tbody>\n",
       "    <tr>\n",
       "      <th>0</th>\n",
       "      <td>count</td>\n",
       "      <td>204.000000</td>\n",
       "    </tr>\n",
       "    <tr>\n",
       "      <th>1</th>\n",
       "      <td>mean</td>\n",
       "      <td>4.176471</td>\n",
       "    </tr>\n",
       "    <tr>\n",
       "      <th>2</th>\n",
       "      <td>std</td>\n",
       "      <td>1.969780</td>\n",
       "    </tr>\n",
       "    <tr>\n",
       "      <th>3</th>\n",
       "      <td>min</td>\n",
       "      <td>0.000000</td>\n",
       "    </tr>\n",
       "    <tr>\n",
       "      <th>4</th>\n",
       "      <td>25%</td>\n",
       "      <td>3.000000</td>\n",
       "    </tr>\n",
       "    <tr>\n",
       "      <th>5</th>\n",
       "      <td>50%</td>\n",
       "      <td>4.000000</td>\n",
       "    </tr>\n",
       "    <tr>\n",
       "      <th>6</th>\n",
       "      <td>75%</td>\n",
       "      <td>6.000000</td>\n",
       "    </tr>\n",
       "    <tr>\n",
       "      <th>7</th>\n",
       "      <td>max</td>\n",
       "      <td>8.000000</td>\n",
       "    </tr>\n",
       "  </tbody>\n",
       "</table>\n",
       "</div>"
      ],
      "text/plain": [
       "   index  order_to_ready_int\n",
       "0  count          204.000000\n",
       "1   mean            4.176471\n",
       "2    std            1.969780\n",
       "3    min            0.000000\n",
       "4    25%            3.000000\n",
       "5    50%            4.000000\n",
       "6    75%            6.000000\n",
       "7    max            8.000000"
      ]
     },
     "execution_count": 10,
     "metadata": {},
     "output_type": "execute_result"
    }
   ],
   "source": [
    "#6. Calculating mean\n",
    "orders_intern_dedup[\"order_to_ready_int\"].describe().reset_index()"
   ]
  },
  {
   "cell_type": "markdown",
   "metadata": {},
   "source": [
    "**KPI1 : ORDER PREP TIME**"
   ]
  },
  {
   "cell_type": "code",
   "execution_count": 11,
   "metadata": {},
   "outputs": [
    {
     "data": {
      "text/plain": [
       "np.float64(4.18)"
      ]
     },
     "execution_count": 11,
     "metadata": {},
     "output_type": "execute_result"
    }
   ],
   "source": [
    "orders_intern_dedup[\"order_to_ready_int\"].mean().round(2)"
   ]
  },
  {
   "cell_type": "markdown",
   "metadata": {},
   "source": [
    "The average time taken for an order to be made ready for shipping from when the order is placed is `4.18 days`.\n",
    "\n",
    "According to the Warehouse Manager, this process should take `2 days`."
   ]
  },
  {
   "cell_type": "markdown",
   "metadata": {},
   "source": [
    "---"
   ]
  },
  {
   "cell_type": "markdown",
   "metadata": {},
   "source": [
    "## KPI 2: Pick up time\n",
    "\n",
    "**How long `on average` does the order take to leave the warehouse from when it is made ready to ship?**\n",
    "\n",
    "Note:  \n",
    "    For Express orders, we should expect no more than 1 day (according to warehouse manager)  \n",
    "    For Standard orders, we should expect no more than 2 days (according to warehouse manager)\n",
    "\n",
    "Calculated difference in number of days between On Truck Scan Date and Ready to Ship date\n",
    " - `pickup_date`- `ready_to_ship`\n",
    " - grouped by standard or express processing\n",
    " - use the `mean`to find `average time taken`\n",
    "\n",
    "Steps to take:\n",
    "1. check for duplicates\n",
    "2. convert dates to datetime format\n",
    "3. calculate average pick up time"
   ]
  },
  {
   "cell_type": "markdown",
   "metadata": {},
   "source": [
    "----\n"
   ]
  },
  {
   "cell_type": "code",
   "execution_count": 15,
   "metadata": {},
   "outputs": [
    {
     "name": "stdout",
     "output_type": "stream",
     "text": [
      "0\n",
      "0\n"
     ]
    },
    {
     "data": {
      "text/plain": [
       "np.float64(1.57)"
      ]
     },
     "execution_count": 15,
     "metadata": {},
     "output_type": "execute_result"
    }
   ],
   "source": [
    "#1. Check for duplicates\n",
    "duplicates = intern_study[intern_study.duplicated()]\n",
    "\n",
    "print(len(duplicates))\n",
    "\n",
    "#no order_id duplicates\n",
    "print(len(intern_study[intern_study.duplicated(subset=\"order_id\",keep=False)]))\n",
    "\n",
    "#2. Converting dates to datetime format\n",
    "intern_study[\"ready_to_ship_date\"] = pd.to_datetime(intern_study[\"ready_to_ship_date\"])\n",
    "intern_study[\"pickup_date\"] = pd.to_datetime(intern_study[\"pickup_date\"])\n",
    "\n",
    "intern_study[\"ready_to_pickup\"] = intern_study[\"pickup_date\"] - intern_study[\"ready_to_ship_date\"]\n",
    "intern_study[\"ready_to_pickup_int\"] = intern_study[\"ready_to_pickup\"].dt.days\n",
    "\n",
    "#3. Calculate average pick up time\n",
    "intern_study[\"ready_to_pickup_int\"].mean().round(2)\n"
   ]
  },
  {
   "cell_type": "markdown",
   "metadata": {},
   "source": [
    "**KPI2 : ORDER PICK UP TIME**"
   ]
  },
  {
   "cell_type": "code",
   "execution_count": 16,
   "metadata": {},
   "outputs": [
    {
     "data": {
      "text/plain": [
       "np.float64(1.57)"
      ]
     },
     "execution_count": 16,
     "metadata": {},
     "output_type": "execute_result"
    }
   ],
   "source": [
    "intern_study[\"ready_to_pickup_int\"].mean().round(2)"
   ]
  },
  {
   "cell_type": "code",
   "execution_count": 17,
   "metadata": {},
   "outputs": [],
   "source": [
    "#plotting the distribution"
   ]
  },
  {
   "cell_type": "code",
   "execution_count": 18,
   "metadata": {},
   "outputs": [
    {
     "data": {
      "image/png": "[encoded data removed]",
      "text/plain": [
       "<Figure size 640x480 with 1 Axes>"
      ]
     },
     "metadata": {},
     "output_type": "display_data"
    }
   ],
   "source": [
    "plt.hist(x=intern_study[\"ready_to_pickup_int\"],bins=4)\n",
    "plt.title(\"Time taken from ready to ship to truck pick up\")\n",
    "plt.xlabel(\"Days\")\n",
    "plt.ylabel(\"Orders\")\n",
    "plt.show();"
   ]
  },
  {
   "cell_type": "code",
   "execution_count": 21,
   "metadata": {},
   "outputs": [
    {
     "data": {
      "text/html": [
       "<div>\n",
       "<style scoped>\n",
       "    .dataframe tbody tr th:only-of-type {\n",
       "        vertical-align: middle;\n",
       "    }\n",
       "\n",
       "    .dataframe tbody tr th {\n",
       "        vertical-align: top;\n",
       "    }\n",
       "\n",
       "    .dataframe thead th {\n",
       "        text-align: right;\n",
       "    }\n",
       "</style>\n",
       "<table border=\"1\" class=\"dataframe\">\n",
       "  <thead>\n",
       "    <tr style=\"text-align: right;\">\n",
       "      <th></th>\n",
       "      <th>index</th>\n",
       "      <th>dispatch time</th>\n",
       "    </tr>\n",
       "  </thead>\n",
       "  <tbody>\n",
       "    <tr>\n",
       "      <th>0</th>\n",
       "      <td>count</td>\n",
       "      <td>204.000000</td>\n",
       "    </tr>\n",
       "    <tr>\n",
       "      <th>1</th>\n",
       "      <td>mean</td>\n",
       "      <td>1.573529</td>\n",
       "    </tr>\n",
       "    <tr>\n",
       "      <th>2</th>\n",
       "      <td>std</td>\n",
       "      <td>0.951786</td>\n",
       "    </tr>\n",
       "    <tr>\n",
       "      <th>3</th>\n",
       "      <td>min</td>\n",
       "      <td>0.000000</td>\n",
       "    </tr>\n",
       "    <tr>\n",
       "      <th>4</th>\n",
       "      <td>25%</td>\n",
       "      <td>1.000000</td>\n",
       "    </tr>\n",
       "    <tr>\n",
       "      <th>5</th>\n",
       "      <td>50%</td>\n",
       "      <td>2.000000</td>\n",
       "    </tr>\n",
       "    <tr>\n",
       "      <th>6</th>\n",
       "      <td>75%</td>\n",
       "      <td>2.000000</td>\n",
       "    </tr>\n",
       "    <tr>\n",
       "      <th>7</th>\n",
       "      <td>max</td>\n",
       "      <td>3.000000</td>\n",
       "    </tr>\n",
       "  </tbody>\n",
       "</table>\n",
       "</div>"
      ],
      "text/plain": [
       "   index  dispatch time\n",
       "0  count     204.000000\n",
       "1   mean       1.573529\n",
       "2    std       0.951786\n",
       "3    min       0.000000\n",
       "4    25%       1.000000\n",
       "5    50%       2.000000\n",
       "6    75%       2.000000\n",
       "7    max       3.000000"
      ]
     },
     "execution_count": 21,
     "metadata": {},
     "output_type": "execute_result"
    }
   ],
   "source": [
    "intern_study[\"ready_to_pickup_int\"].describe().reset_index(name=\"dispatch time\")"
   ]
  },
  {
   "cell_type": "markdown",
   "metadata": {},
   "source": [
    "The average time taken for order pick up from the warehouse is `1.57 days`. But we need to investigate further.\n",
    "How is this affected by\n",
    "- Express vs. Standard shipping\n",
    "- Weekend vs. Weekday?"
   ]
  },
  {
   "cell_type": "code",
   "execution_count": 59,
   "metadata": {},
   "outputs": [],
   "source": [
    "orderprocess_intern =  intern_study.merge(order_process, on=\"order_id\")"
   ]
  },
  {
   "cell_type": "code",
   "execution_count": 60,
   "metadata": {},
   "outputs": [
    {
     "data": {
      "text/html": [
       "<div>\n",
       "<style scoped>\n",
       "    .dataframe tbody tr th:only-of-type {\n",
       "        vertical-align: middle;\n",
       "    }\n",
       "\n",
       "    .dataframe tbody tr th {\n",
       "        vertical-align: top;\n",
       "    }\n",
       "\n",
       "    .dataframe thead th {\n",
       "        text-align: right;\n",
       "    }\n",
       "</style>\n",
       "<table border=\"1\" class=\"dataframe\">\n",
       "  <thead>\n",
       "    <tr style=\"text-align: right;\">\n",
       "      <th></th>\n",
       "      <th>order_id</th>\n",
       "      <th>ready_to_ship_date</th>\n",
       "      <th>pickup_date</th>\n",
       "      <th>ready_to_pickup</th>\n",
       "      <th>ready_to_pickup_int</th>\n",
       "      <th>order_date</th>\n",
       "      <th>on_truck_scan_date</th>\n",
       "      <th>ship_mode</th>\n",
       "    </tr>\n",
       "  </thead>\n",
       "  <tbody>\n",
       "    <tr>\n",
       "      <th>0</th>\n",
       "      <td>CA-2019-116540</td>\n",
       "      <td>2019-09-02</td>\n",
       "      <td>2019-09-03</td>\n",
       "      <td>1 days</td>\n",
       "      <td>1</td>\n",
       "      <td>2019-09-02</td>\n",
       "      <td>2019-09-03</td>\n",
       "      <td>Express</td>\n",
       "    </tr>\n",
       "    <tr>\n",
       "      <th>1</th>\n",
       "      <td>CA-2019-116540</td>\n",
       "      <td>2019-09-02</td>\n",
       "      <td>2019-09-03</td>\n",
       "      <td>1 days</td>\n",
       "      <td>1</td>\n",
       "      <td>2019-09-02</td>\n",
       "      <td>2019-09-03</td>\n",
       "      <td>Express</td>\n",
       "    </tr>\n",
       "    <tr>\n",
       "      <th>2</th>\n",
       "      <td>CA-2019-129847</td>\n",
       "      <td>2019-09-04</td>\n",
       "      <td>2019-09-04</td>\n",
       "      <td>0 days</td>\n",
       "      <td>0</td>\n",
       "      <td>2019-09-02</td>\n",
       "      <td>2019-09-04</td>\n",
       "      <td>Express</td>\n",
       "    </tr>\n",
       "    <tr>\n",
       "      <th>3</th>\n",
       "      <td>CA-2019-129630</td>\n",
       "      <td>2019-09-04</td>\n",
       "      <td>2019-09-04</td>\n",
       "      <td>0 days</td>\n",
       "      <td>0</td>\n",
       "      <td>2019-09-04</td>\n",
       "      <td>2019-09-04</td>\n",
       "      <td>Express</td>\n",
       "    </tr>\n",
       "    <tr>\n",
       "      <th>4</th>\n",
       "      <td>CA-2019-129630</td>\n",
       "      <td>2019-09-04</td>\n",
       "      <td>2019-09-04</td>\n",
       "      <td>0 days</td>\n",
       "      <td>0</td>\n",
       "      <td>2019-09-04</td>\n",
       "      <td>2019-09-04</td>\n",
       "      <td>Express</td>\n",
       "    </tr>\n",
       "    <tr>\n",
       "      <th>...</th>\n",
       "      <td>...</td>\n",
       "      <td>...</td>\n",
       "      <td>...</td>\n",
       "      <td>...</td>\n",
       "      <td>...</td>\n",
       "      <td>...</td>\n",
       "      <td>...</td>\n",
       "      <td>...</td>\n",
       "    </tr>\n",
       "    <tr>\n",
       "      <th>413</th>\n",
       "      <td>CA-2020-105333</td>\n",
       "      <td>2020-12-04</td>\n",
       "      <td>2020-12-07</td>\n",
       "      <td>3 days</td>\n",
       "      <td>3</td>\n",
       "      <td>2020-11-30</td>\n",
       "      <td>2020-12-07</td>\n",
       "      <td>Standard Processing</td>\n",
       "    </tr>\n",
       "    <tr>\n",
       "      <th>414</th>\n",
       "      <td>CA-2020-105333</td>\n",
       "      <td>2020-12-04</td>\n",
       "      <td>2020-12-07</td>\n",
       "      <td>3 days</td>\n",
       "      <td>3</td>\n",
       "      <td>2020-11-30</td>\n",
       "      <td>2020-12-07</td>\n",
       "      <td>Standard Processing</td>\n",
       "    </tr>\n",
       "    <tr>\n",
       "      <th>415</th>\n",
       "      <td>CA-2020-119305</td>\n",
       "      <td>2020-12-04</td>\n",
       "      <td>2020-12-07</td>\n",
       "      <td>3 days</td>\n",
       "      <td>3</td>\n",
       "      <td>2020-11-30</td>\n",
       "      <td>2020-12-07</td>\n",
       "      <td>Standard Processing</td>\n",
       "    </tr>\n",
       "    <tr>\n",
       "      <th>416</th>\n",
       "      <td>CA-2020-142090</td>\n",
       "      <td>2020-12-07</td>\n",
       "      <td>2020-12-09</td>\n",
       "      <td>2 days</td>\n",
       "      <td>2</td>\n",
       "      <td>2020-11-30</td>\n",
       "      <td>2020-12-09</td>\n",
       "      <td>Standard Processing</td>\n",
       "    </tr>\n",
       "    <tr>\n",
       "      <th>417</th>\n",
       "      <td>CA-2020-142090</td>\n",
       "      <td>2020-12-07</td>\n",
       "      <td>2020-12-09</td>\n",
       "      <td>2 days</td>\n",
       "      <td>2</td>\n",
       "      <td>2020-11-30</td>\n",
       "      <td>2020-12-09</td>\n",
       "      <td>Standard Processing</td>\n",
       "    </tr>\n",
       "  </tbody>\n",
       "</table>\n",
       "<p>418 rows × 8 columns</p>\n",
       "</div>"
      ],
      "text/plain": [
       "           order_id ready_to_ship_date pickup_date ready_to_pickup  \\\n",
       "0    CA-2019-116540         2019-09-02  2019-09-03          1 days   \n",
       "1    CA-2019-116540         2019-09-02  2019-09-03          1 days   \n",
       "2    CA-2019-129847         2019-09-04  2019-09-04          0 days   \n",
       "3    CA-2019-129630         2019-09-04  2019-09-04          0 days   \n",
       "4    CA-2019-129630         2019-09-04  2019-09-04          0 days   \n",
       "..              ...                ...         ...             ...   \n",
       "413  CA-2020-105333         2020-12-04  2020-12-07          3 days   \n",
       "414  CA-2020-105333         2020-12-04  2020-12-07          3 days   \n",
       "415  CA-2020-119305         2020-12-04  2020-12-07          3 days   \n",
       "416  CA-2020-142090         2020-12-07  2020-12-09          2 days   \n",
       "417  CA-2020-142090         2020-12-07  2020-12-09          2 days   \n",
       "\n",
       "     ready_to_pickup_int  order_date on_truck_scan_date            ship_mode  \n",
       "0                      1  2019-09-02         2019-09-03              Express  \n",
       "1                      1  2019-09-02         2019-09-03              Express  \n",
       "2                      0  2019-09-02         2019-09-04              Express  \n",
       "3                      0  2019-09-04         2019-09-04              Express  \n",
       "4                      0  2019-09-04         2019-09-04              Express  \n",
       "..                   ...         ...                ...                  ...  \n",
       "413                    3  2020-11-30         2020-12-07  Standard Processing  \n",
       "414                    3  2020-11-30         2020-12-07  Standard Processing  \n",
       "415                    3  2020-11-30         2020-12-07  Standard Processing  \n",
       "416                    2  2020-11-30         2020-12-09  Standard Processing  \n",
       "417                    2  2020-11-30         2020-12-09  Standard Processing  \n",
       "\n",
       "[418 rows x 8 columns]"
      ]
     },
     "execution_count": 60,
     "metadata": {},
     "output_type": "execute_result"
    }
   ],
   "source": [
    "orderprocess_intern"
   ]
  },
  {
   "cell_type": "markdown",
   "metadata": {},
   "source": [
    "\n",
    "\n",
    "-----------------------"
   ]
  },
  {
   "cell_type": "markdown",
   "metadata": {},
   "source": [
    "## KPI 4: Total order cycle time\n",
    "\n",
    "**What is the `average time taken` for a customer to receive an order after they have placed it?** \n",
    "\n",
    "\n",
    "**Steps to be taken:**\n",
    "\n",
    "campaign table has `arrival_scan_date` and order table has `order_date`.\n",
    "\n",
    "1. Merge orders and campaign\n",
    "2. Inspect and drop duplicates\n",
    "3. Convert dates to datetime if needed\n",
    "4. Calculate the difference in number of days between the order date and the arrival_scan_date\n",
    "`arrival_scan_date - order_date`\n",
    "5. Use the `mean` to find `average time taken`** ."
   ]
  },
  {
   "cell_type": "code",
   "execution_count": 29,
   "metadata": {},
   "outputs": [
    {
     "name": "stdout",
     "output_type": "stream",
     "text": [
      "497\n",
      "333\n"
     ]
    },
    {
     "data": {
      "text/plain": [
       "np.float64(10.834834834834835)"
      ]
     },
     "execution_count": 29,
     "metadata": {},
     "output_type": "execute_result"
    }
   ],
   "source": [
    "#1. merge orders and campaign\n",
    "order_cycle = orders.merge(campaigns, on=\"order_id\", how=\"inner\")\n",
    "\n",
    "#Inspect duplicates\n",
    "len(order_cycle[order_cycle.duplicated(keep=False)])\n",
    "\n",
    "#order_id duplicates?\n",
    "print(len(order_cycle[order_cycle.duplicated(subset=\"order_id\",keep=False)]))\n",
    "\n",
    "#drop them\n",
    "order_cycle = order_cycle.drop_duplicates(subset=\"order_id\").copy()\n",
    "print(len(order_cycle))\n",
    "\n",
    "#3. Convert to datetime\n",
    "order_cycle[\"order_date\"] = pd.to_datetime(order_cycle[\"order_date\"])\n",
    "order_cycle[\"arrival_scan_date\"] = pd.to_datetime(order_cycle[\"arrival_scan_date\"])\n",
    "\n",
    "#4. Calculate the difference between arrival_scan_date and order_date\n",
    "order_cycle[\"order_cycle_time\"] = order_cycle[\"arrival_scan_date\"] - order_cycle[\"order_date\"]\n",
    "order_cycle[\"order_cycle_time_int\"] = order_cycle[\"order_cycle_time\"].dt.days\n",
    "\n",
    "#5. Calculate the mean\n",
    "order_cycle[\"order_cycle_time_int\"].mean()"
   ]
  },
  {
   "cell_type": "code",
   "execution_count": 30,
   "metadata": {},
   "outputs": [
    {
     "data": {
      "text/html": [
       "<div>\n",
       "<style scoped>\n",
       "    .dataframe tbody tr th:only-of-type {\n",
       "        vertical-align: middle;\n",
       "    }\n",
       "\n",
       "    .dataframe tbody tr th {\n",
       "        vertical-align: top;\n",
       "    }\n",
       "\n",
       "    .dataframe thead th {\n",
       "        text-align: right;\n",
       "    }\n",
       "</style>\n",
       "<table border=\"1\" class=\"dataframe\">\n",
       "  <thead>\n",
       "    <tr style=\"text-align: right;\">\n",
       "      <th></th>\n",
       "      <th>index</th>\n",
       "      <th>lead time</th>\n",
       "    </tr>\n",
       "  </thead>\n",
       "  <tbody>\n",
       "    <tr>\n",
       "      <th>0</th>\n",
       "      <td>count</td>\n",
       "      <td>333.000000</td>\n",
       "    </tr>\n",
       "    <tr>\n",
       "      <th>1</th>\n",
       "      <td>mean</td>\n",
       "      <td>10.834835</td>\n",
       "    </tr>\n",
       "    <tr>\n",
       "      <th>2</th>\n",
       "      <td>std</td>\n",
       "      <td>2.862257</td>\n",
       "    </tr>\n",
       "    <tr>\n",
       "      <th>3</th>\n",
       "      <td>min</td>\n",
       "      <td>3.000000</td>\n",
       "    </tr>\n",
       "    <tr>\n",
       "      <th>4</th>\n",
       "      <td>25%</td>\n",
       "      <td>9.000000</td>\n",
       "    </tr>\n",
       "    <tr>\n",
       "      <th>5</th>\n",
       "      <td>50%</td>\n",
       "      <td>11.000000</td>\n",
       "    </tr>\n",
       "    <tr>\n",
       "      <th>6</th>\n",
       "      <td>75%</td>\n",
       "      <td>13.000000</td>\n",
       "    </tr>\n",
       "    <tr>\n",
       "      <th>7</th>\n",
       "      <td>max</td>\n",
       "      <td>17.000000</td>\n",
       "    </tr>\n",
       "  </tbody>\n",
       "</table>\n",
       "</div>"
      ],
      "text/plain": [
       "   index   lead time\n",
       "0  count  333.000000\n",
       "1   mean   10.834835\n",
       "2    std    2.862257\n",
       "3    min    3.000000\n",
       "4    25%    9.000000\n",
       "5    50%   11.000000\n",
       "6    75%   13.000000\n",
       "7    max   17.000000"
      ]
     },
     "execution_count": 30,
     "metadata": {},
     "output_type": "execute_result"
    }
   ],
   "source": [
    "order_cycle[\"order_cycle_time_int\"].describe().reset_index(name=\"lead time\")"
   ]
  },
  {
   "cell_type": "markdown",
   "metadata": {},
   "source": [
    "**KPI4 : TOTAL CYCLE TIME**\n"
   ]
  },
  {
   "cell_type": "code",
   "execution_count": 32,
   "metadata": {},
   "outputs": [
    {
     "data": {
      "text/plain": [
       "np.float64(10.83)"
      ]
     },
     "execution_count": 32,
     "metadata": {},
     "output_type": "execute_result"
    }
   ],
   "source": [
    "order_cycle[\"order_cycle_time_int\"].mean().round(2)"
   ]
  },
  {
   "cell_type": "markdown",
   "metadata": {},
   "source": [
    "The average time taken for an order to delivered to the customer from when the order is placed is `10.83 days`.\n"
   ]
  },
  {
   "cell_type": "code",
   "execution_count": 34,
   "metadata": {},
   "outputs": [
    {
     "data": {
      "image/png": "[encoded data removed]",
      "text/plain": [
       "<Figure size 640x480 with 1 Axes>"
      ]
     },
     "metadata": {},
     "output_type": "display_data"
    }
   ],
   "source": [
    "#Plotting the distribution of time taken from order placed to order ready in warehouse\n",
    "plt.boxplot(x=order_cycle[\"order_cycle_time_int\"])\n",
    "plt.ylim([0,18])\n",
    "plt.title(\"Order lead time\")\n",
    "plt.ylabel(\"Days\")\n",
    "plt.show();"
   ]
  }
 ],
 "metadata": {
  "kernelspec": {
   "display_name": "Python 3 (ipykernel)",
   "language": "python",
   "name": "python3"
  },
  "language_info": {
   "codemirror_mode": {
    "name": "ipython",
    "version": 3
   },
   "file_extension": ".py",
   "mimetype": "text/x-python",
   "name": "python",
   "nbconvert_exporter": "python",
   "pygments_lexer": "ipython3",
   "version": "3.12.4"
  }
 },
 "nbformat": 4,
 "nbformat_minor": 4
}
